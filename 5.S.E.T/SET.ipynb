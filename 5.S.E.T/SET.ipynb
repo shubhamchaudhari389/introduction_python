{
 "cells": [
  {
   "attachments": {},
   "cell_type": "markdown",
   "metadata": {},
   "source": [
    "# <Center> Set Data Structure </Center>"
   ]
  },
  {
   "attachments": {},
   "cell_type": "markdown",
   "metadata": {},
   "source": [
    "1. If we want to represent a group o unique values as a single entity then we should go for set \n",
    "2. Duplicates are not allowed.\n",
    "3. insertion order is not preserved. But we can sort the element.\n",
    "4. indexing and slicing not allowed for the set.\n",
    "5. Hetreogeneous element are allowed.\n",
    "6. set objects are mutable i.e once we creates set object we can perform any changes in that object based on our requiremnts.\n",
    "7. we can represent set elements within curly braces and with comma sepreation\n",
    "8. we can apply mathmatically operation like union, intersection,difference etc on set objects.\n",
    "\n",
    "### Creation of SET Object:\n",
    "\n"
   ]
  },
  {
   "cell_type": "code",
   "execution_count": 1,
   "metadata": {},
   "outputs": [
    {
     "name": "stdout",
     "output_type": "stream",
     "text": [
      "{40, 10, 20, 30}\n",
      "<class 'set'>\n"
     ]
    }
   ],
   "source": [
    "s ={10,20,30,40}\n",
    "print(s)\n",
    "print(type(s))"
   ]
  },
  {
   "attachments": {},
   "cell_type": "markdown",
   "metadata": {},
   "source": [
    "We can create set objects by using set() function\n",
    "\n",
    "s= set(any sequence)"
   ]
  },
  {
   "cell_type": "code",
   "execution_count": 3,
   "metadata": {},
   "outputs": [
    {
     "name": "stdout",
     "output_type": "stream",
     "text": [
      "{40, 10, 20, 30}\n"
     ]
    }
   ],
   "source": [
    "l ={10,20,30,40,10,20,10}\n",
    "s =set(l)\n",
    "print(s)"
   ]
  },
  {
   "cell_type": "code",
   "execution_count": 5,
   "metadata": {},
   "outputs": [
    {
     "name": "stdout",
     "output_type": "stream",
     "text": [
      "{0, 1, 2, 3, 4}\n"
     ]
    }
   ],
   "source": [
    "s =set(range(5))\n",
    "print(s)"
   ]
  },
  {
   "attachments": {},
   "cell_type": "markdown",
   "metadata": {},
   "source": [
    "#### NOTE:-\n",
    "While creating empty set we have to we have to take special care.\n",
    "compulsory we should use set{} Function\n",
    "\n",
    "s = {} ==> it is Treated as dictionary but not empty set.\n"
   ]
  },
  {
   "cell_type": "code",
   "execution_count": 7,
   "metadata": {},
   "outputs": [
    {
     "name": "stdout",
     "output_type": "stream",
     "text": [
      "{}\n",
      "<class 'dict'>\n"
     ]
    }
   ],
   "source": [
    "s ={}\n",
    "print(s)\n",
    "print(type(s))\n"
   ]
  },
  {
   "cell_type": "code",
   "execution_count": 10,
   "metadata": {},
   "outputs": [
    {
     "name": "stdout",
     "output_type": "stream",
     "text": [
      "set()\n",
      "<class 'set'>\n"
     ]
    }
   ],
   "source": [
    "S=set()\n",
    "print(S)\n",
    "print(type(S))"
   ]
  },
  {
   "attachments": {},
   "cell_type": "markdown",
   "metadata": {},
   "source": [
    "# important Function Of set\n",
    "1. add(x):\n",
    "add item x to the set"
   ]
  },
  {
   "cell_type": "code",
   "execution_count": 11,
   "metadata": {},
   "outputs": [
    {
     "name": "stdout",
     "output_type": "stream",
     "text": [
      "{40, 10, 20, 30}\n"
     ]
    }
   ],
   "source": [
    "s ={10,20,30}\n",
    "s.add(40)\n",
    "print(s)"
   ]
  },
  {
   "attachments": {},
   "cell_type": "markdown",
   "metadata": {},
   "source": [
    "2. update(s,y,z):\n",
    "to add multiply item to set.\n",
    "argument are not individual elements and these are lterable objects like List,range etc \n",
    "all elements present in the given iterable objects will be added to the set."
   ]
  },
  {
   "cell_type": "code",
   "execution_count": 14,
   "metadata": {},
   "outputs": [
    {
     "name": "stdout",
     "output_type": "stream",
     "text": [
      "{0, 1, 2, 3, 4, 40, 10, 50, 20, 60, 30}\n"
     ]
    }
   ],
   "source": [
    "s ={10,20,30}\n",
    "l =[40,50,60,10]\n",
    "s.update(l,range(5))\n",
    "print(s)"
   ]
  },
  {
   "attachments": {},
   "cell_type": "markdown",
   "metadata": {},
   "source": [
    "### Q. What is the Difference between add() and update () function in set?\n",
    "\n",
    "we can use add() to add individual item to the set, where as we can use update() function to add multiple items to set.\n",
    "add() function can take only one arguments where as update() function can take any number of arguments but all arguments should be iterabel objects.\n",
    "\n",
    "### Q. Which of the following are valid for ste s?\n",
    "1. s.add(10)\n",
    "2. s.add(10,20,30)  TypeError: add() takes exactly one arguments\n",
    "3. s.update(10)    TypeError: 'int' object is not iterables objects.\n",
    "4. s.update(range(1,10,2),range(0,10,2))\n",
    "\n",
    "## 3. Copy():\n",
    "Return copy of the set.\n",
    "it is cloned object.\n"
   ]
  },
  {
   "cell_type": "code",
   "execution_count": 15,
   "metadata": {},
   "outputs": [
    {
     "name": "stdout",
     "output_type": "stream",
     "text": [
      "{1, 20, 30}\n"
     ]
    }
   ],
   "source": [
    "s={1,20,30}\n",
    "s1=s.copy()\n",
    "print(s1)"
   ]
  },
  {
   "attachments": {},
   "cell_type": "markdown",
   "metadata": {},
   "source": [
    "## 4.pop()\n",
    "it remove and return some random element From the set."
   ]
  },
  {
   "cell_type": "code",
   "execution_count": 16,
   "metadata": {},
   "outputs": [
    {
     "name": "stdout",
     "output_type": "stream",
     "text": [
      "{40, 10, 20, 30}\n",
      "40\n",
      "{10, 20, 30}\n"
     ]
    }
   ],
   "source": [
    "s={40,10,30,20}\n",
    "print(s)\n",
    "print(s.pop())\n",
    "print(s)"
   ]
  },
  {
   "attachments": {},
   "cell_type": "markdown",
   "metadata": {},
   "source": [
    "## 5.remove(x):\n",
    "\n",
    "it removes specified element from the set.\n",
    "if the specified elements not present in the Set then we will get KeyError"
   ]
  },
  {
   "cell_type": "code",
   "execution_count": 18,
   "metadata": {},
   "outputs": [
    {
     "name": "stdout",
     "output_type": "stream",
     "text": [
      "set()\n"
     ]
    }
   ],
   "source": [
    "s ={40,10,30,20}\n",
    "s.remove(30)\n",
    "print(S)\n"
   ]
  },
  {
   "cell_type": "code",
   "execution_count": 19,
   "metadata": {},
   "outputs": [
    {
     "ename": "KeyError",
     "evalue": "50",
     "output_type": "error",
     "traceback": [
      "\u001b[1;31m---------------------------------------------------------------------------\u001b[0m",
      "\u001b[1;31mKeyError\u001b[0m                                  Traceback (most recent call last)",
      "Cell \u001b[1;32mIn[19], line 1\u001b[0m\n\u001b[1;32m----> 1\u001b[0m s\u001b[39m.\u001b[39;49mremove(\u001b[39m50\u001b[39;49m)\n",
      "\u001b[1;31mKeyError\u001b[0m: 50"
     ]
    }
   ],
   "source": [
    "s.remove(50)"
   ]
  },
  {
   "attachments": {},
   "cell_type": "markdown",
   "metadata": {},
   "source": [
    "## 6. discard(x)\n",
    "1. it remove the specified elements from the set.\n",
    "2. if the specified elements not present in the set then we  won't get any error."
   ]
  },
  {
   "cell_type": "code",
   "execution_count": 22,
   "metadata": {},
   "outputs": [
    {
     "name": "stdout",
     "output_type": "stream",
     "text": [
      "{20, 30}\n"
     ]
    }
   ],
   "source": [
    "s ={10,20,30}\n",
    "s.discard(10)\n",
    "print(s)\n"
   ]
  },
  {
   "cell_type": "code",
   "execution_count": 23,
   "metadata": {},
   "outputs": [
    {
     "name": "stdout",
     "output_type": "stream",
     "text": [
      "{20, 30}\n"
     ]
    }
   ],
   "source": [
    "s.discard(50)\n",
    "print(s)"
   ]
  },
  {
   "attachments": {},
   "cell_type": "markdown",
   "metadata": {},
   "source": [
    "#### Q.Difference Between remove() and discard()\n",
    "\n",
    "## 7. clear()\n",
    "to remove all elements from the set.\n"
   ]
  },
  {
   "cell_type": "code",
   "execution_count": 25,
   "metadata": {},
   "outputs": [
    {
     "name": "stdout",
     "output_type": "stream",
     "text": [
      "{10, 20, 30}\n",
      "set()\n"
     ]
    }
   ],
   "source": [
    "s ={10,20,30}\n",
    "print(s)\n",
    "s.clear()\n",
    "print(s)"
   ]
  },
  {
   "attachments": {},
   "cell_type": "markdown",
   "metadata": {},
   "source": [
    "## <center>Mathematical operation on the Set:<center>\n",
    "\n",
    "#### 1.union():\n",
    "x.union(y) ==> we can use this function to return all elements present in both sets.\n",
    "\n",
    "x.union(y) or x|y\n"
   ]
  },
  {
   "cell_type": "code",
   "execution_count": 26,
   "metadata": {},
   "outputs": [
    {
     "name": "stdout",
     "output_type": "stream",
     "text": [
      "{40, 10, 50, 20, 60, 30}\n",
      "{40, 10, 50, 20, 60, 30}\n"
     ]
    }
   ],
   "source": [
    "x ={10,20,30,40}\n",
    "y ={30,40,50,60}\n",
    "print(x.union(y))\n",
    "print(x|y)"
   ]
  },
  {
   "attachments": {},
   "cell_type": "markdown",
   "metadata": {},
   "source": [
    "## 2. intersection():\n",
    "\n",
    "x.intersection(y) or x&y\n",
    "Return common elemenmts present in both x and y"
   ]
  },
  {
   "cell_type": "code",
   "execution_count": 27,
   "metadata": {},
   "outputs": [
    {
     "name": "stdout",
     "output_type": "stream",
     "text": [
      "{40, 30}\n",
      "{40, 30}\n"
     ]
    }
   ],
   "source": [
    "x ={10,20,30,40}\n",
    "y ={30,40,50,60}\n",
    "print(x.intersection(y))\n",
    "print(x&y)"
   ]
  },
  {
   "attachments": {},
   "cell_type": "markdown",
   "metadata": {},
   "source": [
    "## difference():\n",
    "x.difference(y) or x-y\n",
    "returns the elements presents present in x but not in y\n"
   ]
  },
  {
   "cell_type": "code",
   "execution_count": 29,
   "metadata": {},
   "outputs": [
    {
     "name": "stdout",
     "output_type": "stream",
     "text": [
      "{10, 20}\n",
      "{10, 20}\n",
      "{50, 60}\n"
     ]
    }
   ],
   "source": [
    "x ={10,20,30,40}\n",
    "y ={30,40,50,60}\n",
    "print(x.difference(y))\n",
    "print(x-y)\n",
    "print(y-x)"
   ]
  },
  {
   "attachments": {},
   "cell_type": "markdown",
   "metadata": {},
   "source": [
    "## 4. symmentric _diiference():\n",
    "x. symmetric_diiference(y)  or x^y\n",
    "Return elements present in either x or y but in both\n"
   ]
  },
  {
   "cell_type": "code",
   "execution_count": 31,
   "metadata": {},
   "outputs": [
    {
     "name": "stdout",
     "output_type": "stream",
     "text": [
      "{10, 50, 20, 60}\n",
      "{10, 50, 20, 60}\n"
     ]
    }
   ],
   "source": [
    "x ={10,20,30,40}\n",
    "y ={30,40,50,60}\n",
    "print(x.symmetric_difference(y))\n",
    "print(x^y)\n"
   ]
  },
  {
   "attachments": {},
   "cell_type": "markdown",
   "metadata": {},
   "source": [
    "# Membership Operator: (in, not in)\n"
   ]
  },
  {
   "cell_type": "code",
   "execution_count": 32,
   "metadata": {},
   "outputs": [
    {
     "name": "stdout",
     "output_type": "stream",
     "text": [
      "{'g', 'd', 'u', 'a', 'r'}\n",
      "True\n",
      "False\n"
     ]
    }
   ],
   "source": [
    "s =set(\"durga\")\n",
    "print(s)\n",
    "print('d' in s)\n",
    "print('z' in s)\n"
   ]
  },
  {
   "attachments": {},
   "cell_type": "markdown",
   "metadata": {},
   "source": [
    "# Set Comprehension:\n",
    "set comprehension is possible,\n"
   ]
  },
  {
   "cell_type": "code",
   "execution_count": 34,
   "metadata": {},
   "outputs": [
    {
     "name": "stdout",
     "output_type": "stream",
     "text": [
      "{0, 1, 4, 9, 16}\n"
     ]
    }
   ],
   "source": [
    "s ={x*x for x in range(5)}\n",
    "print(s)"
   ]
  },
  {
   "cell_type": "code",
   "execution_count": 35,
   "metadata": {},
   "outputs": [
    {
     "name": "stdout",
     "output_type": "stream",
     "text": [
      "{16, 256, 64, 4}\n"
     ]
    }
   ],
   "source": [
    "s ={2**x for x in range(2,10,2)}\n",
    "print(s)\n"
   ]
  },
  {
   "attachments": {},
   "cell_type": "markdown",
   "metadata": {},
   "source": [
    "#### Set Object won't support indexing and slicing:\n"
   ]
  },
  {
   "cell_type": "code",
   "execution_count": 36,
   "metadata": {},
   "outputs": [
    {
     "ename": "TypeError",
     "evalue": "'set' object is not subscriptable",
     "output_type": "error",
     "traceback": [
      "\u001b[1;31m---------------------------------------------------------------------------\u001b[0m",
      "\u001b[1;31mTypeError\u001b[0m                                 Traceback (most recent call last)",
      "Cell \u001b[1;32mIn[36], line 2\u001b[0m\n\u001b[0;32m      1\u001b[0m s \u001b[39m=\u001b[39m{\u001b[39m10\u001b[39m,\u001b[39m20\u001b[39m,\u001b[39m30\u001b[39m,\u001b[39m40\u001b[39m}\n\u001b[1;32m----> 2\u001b[0m \u001b[39mprint\u001b[39m(s[\u001b[39m0\u001b[39;49m])\n\u001b[0;32m      3\u001b[0m \u001b[39mprint\u001b[39m(s[\u001b[39m1\u001b[39m:\u001b[39m3\u001b[39m])\n",
      "\u001b[1;31mTypeError\u001b[0m: 'set' object is not subscriptable"
     ]
    }
   ],
   "source": [
    "s ={10,20,30,40}\n",
    "print(s[0])\n",
    "print(s[1:3])"
   ]
  },
  {
   "attachments": {},
   "cell_type": "markdown",
   "metadata": {},
   "source": [
    "### Q. Write a program to eliminate duplicates present in the list?\n",
    "\n",
    "- approach-1:\n"
   ]
  },
  {
   "cell_type": "code",
   "execution_count": 40,
   "metadata": {},
   "outputs": [
    {
     "name": "stdout",
     "output_type": "stream",
     "text": [
      "{40, 10, 20, 30}\n"
     ]
    }
   ],
   "source": [
    "l =eval(input(\"Enter List of value:\"))\n",
    "s =set(l)\n",
    "print(s)"
   ]
  },
  {
   "cell_type": "code",
   "execution_count": 41,
   "metadata": {},
   "outputs": [
    {
     "name": "stdout",
     "output_type": "stream",
     "text": [
      "40\n"
     ]
    }
   ],
   "source": [
    "l = eval(input(\"Enter List Of value:\"))\n",
    "l1 =[]\n",
    "for x in l:\n",
    "    if x not in l1:\n",
    "        l1.append(x)\n",
    "print(x)"
   ]
  },
  {
   "attachments": {},
   "cell_type": "markdown",
   "metadata": {},
   "source": [
    "#### Q. Write a program to print different vowels present in the given word?\n"
   ]
  },
  {
   "cell_type": "code",
   "execution_count": 43,
   "metadata": {},
   "outputs": [
    {
     "name": "stdout",
     "output_type": "stream",
     "text": [
      "The Different vowels pesent in shubham are {'u', 'a'}\n"
     ]
    }
   ],
   "source": [
    "w = input(\"Enter word to search for vowels:\")\n",
    "s =set(w)\n",
    "v ={'a','e','i','o','u'}\n",
    "d =s.intersection(v)\n",
    "print(\"The Different vowels pesent in\", w ,\"are\",d)"
   ]
  },
  {
   "cell_type": "code",
   "execution_count": null,
   "metadata": {},
   "outputs": [],
   "source": []
  }
 ],
 "metadata": {
  "kernelspec": {
   "display_name": "base",
   "language": "python",
   "name": "python3"
  },
  "language_info": {
   "codemirror_mode": {
    "name": "ipython",
    "version": 3
   },
   "file_extension": ".py",
   "mimetype": "text/x-python",
   "name": "python",
   "nbconvert_exporter": "python",
   "pygments_lexer": "ipython3",
   "version": "3.10.9"
  },
  "orig_nbformat": 4
 },
 "nbformat": 4,
 "nbformat_minor": 2
}
