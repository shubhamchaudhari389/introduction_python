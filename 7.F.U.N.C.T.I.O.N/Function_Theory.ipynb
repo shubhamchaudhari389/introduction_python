{
 "cells": [
  {
   "attachments": {},
   "cell_type": "markdown",
   "metadata": {},
   "source": [
    "<h1 style=\"color:Tomato;\"><center><b> FUNCTION </b></center></h1>\n",
    "\n",
    "- if a group of statements is repeatedly required then it is not recommended to erite these statements everytimes seperately.\n",
    "- we have to define these statements as a single unit and we can call that unit and we can call that unit any number of times based on our requirement without rewriting.this unit is nothing but function.\n",
    "- The main advantage of function is code Resability.\n",
    "- <b>Note</b>:- In other language function are knowns as method , Procedure , subroutine etc.\n",
    "\n",
    "- Python Support 2 Type of functions\n",
    "\n",
    "1. Built in Functions.\n",
    "2. User Defined Function.\n",
    "\n",
    "1. <b><u>Built in Function: </u></b>\n",
    "- The Functions which are comming along with Python Softwere automatically, are called built in function or pre defined function.\n",
    "- eg.\n",
    "   1. id()\n",
    "   2. type()\n",
    "   3. input()\n",
    "   4. eval()\n",
    "   etc.....\n",
    "\n",
    "2. <b><u> User Defined Function:</u> </b>\n",
    "- The Function which are developed by programing explicitty according to business requirements, are called user defined function.\n",
    "\n",
    "__Syntax to create user defined function__:-\n",
    "\n",
    "Def  Function_name(parameters):\n",
    "\"\"\" doc string \"\"\"\n",
    ".........................\n",
    ".........................\n",
    "return value\n",
    "\n",
    "<b>Note:</b>While creating we can use 2 keywords\n",
    "1. def(mandatory)\n",
    "2. reurn(optional)\n",
    "\n",
    "### Eg.1 Write a function to print Hello"
   ]
  },
  {
   "cell_type": "code",
   "execution_count": 34,
   "metadata": {},
   "outputs": [
    {
     "name": "stdout",
     "output_type": "stream",
     "text": [
      "Hello Good Morning\n",
      "Hello Good Morning\n",
      "Hello Good Morning\n"
     ]
    }
   ],
   "source": [
    "def wish():\n",
    "    print(\"Hello Good Morning\")\n",
    "wish()\n",
    "wish()\n",
    "wish()\n"
   ]
  },
  {
   "attachments": {},
   "cell_type": "markdown",
   "metadata": {},
   "source": [
    "<b><h2>Parameter</h2></b>\n",
    "\n",
    "-  parameter are input to the function.if a function contain parameters, then at the times of calling, compulsory we should provided values otherwise , oterwise we will get error.\n",
    "\n",
    "- <b>Eg</b>: Write a Function to take name of the student as input wish meassage by name?\n",
    "\n"
   ]
  },
  {
   "cell_type": "code",
   "execution_count": 35,
   "metadata": {},
   "outputs": [
    {
     "name": "stdout",
     "output_type": "stream",
     "text": [
      "Hello Durga Good Morning\n",
      "Hello Ravi Good Morning\n"
     ]
    }
   ],
   "source": [
    "def wish(name):\n",
    "    print(\"Hello\",name,\"Good Morning\")\n",
    "wish(\"Durga\")\n",
    "wish(\"Ravi\")"
   ]
  },
  {
   "attachments": {},
   "cell_type": "markdown",
   "metadata": {},
   "source": [
    "- <b>Eg</b>: Write a function to take number as input and ?"
   ]
  },
  {
   "cell_type": "code",
   "execution_count": 36,
   "metadata": {},
   "outputs": [
    {
     "name": "stdout",
     "output_type": "stream",
     "text": [
      "The Square of 4 is 16\n"
     ]
    }
   ],
   "source": [
    "def squarelt(number):\n",
    "    print(\"The Square of\",number,\"is\",number*number)\n",
    "squarelt(4)"
   ]
  },
  {
   "cell_type": "code",
   "execution_count": 37,
   "metadata": {},
   "outputs": [
    {
     "name": "stdout",
     "output_type": "stream",
     "text": [
      "The Square of 5 is 25\n"
     ]
    }
   ],
   "source": [
    "squarelt(5)"
   ]
  },
  {
   "attachments": {},
   "cell_type": "markdown",
   "metadata": {},
   "source": [
    "## __Return Statements__\n",
    "Function can take input values as parameters and executes business logic, and return output to the caller with return statements.\n",
    "\n",
    "### Q. Write a Function to accept 2 numbers as input and return sum.\n"
   ]
  },
  {
   "cell_type": "code",
   "execution_count": 38,
   "metadata": {},
   "outputs": [
    {
     "name": "stdout",
     "output_type": "stream",
     "text": [
      "The sum is 30\n",
      "The sum is 300\n"
     ]
    }
   ],
   "source": [
    "def add(x,y):\n",
    "    return x+y\n",
    "result= add(10,20)\n",
    "print(\"The sum is\",result)\n",
    "print(\"The sum is\",add(100,200))\n",
    "\n",
    "# if you are not writing return statements then default return value is none.\n"
   ]
  },
  {
   "cell_type": "code",
   "execution_count": 39,
   "metadata": {},
   "outputs": [
    {
     "name": "stdout",
     "output_type": "stream",
     "text": [
      "hello\n",
      "hello\n",
      "None\n"
     ]
    }
   ],
   "source": [
    "def f1():\n",
    "    print(\"hello\")\n",
    "f1()\n",
    "print(f1())\n"
   ]
  },
  {
   "attachments": {},
   "cell_type": "markdown",
   "metadata": {},
   "source": [
    "### Q. Write a function to check whether the given number is even or odd?"
   ]
  },
  {
   "cell_type": "code",
   "execution_count": 40,
   "metadata": {},
   "outputs": [
    {
     "name": "stdout",
     "output_type": "stream",
     "text": [
      "10 is Even Number\n",
      "15 is Odd Number\n",
      "14 is Even Number\n",
      "20 is Even Number\n"
     ]
    }
   ],
   "source": [
    "def even_odd(num):\n",
    "    if num%2==0:\n",
    "        print(num,\"is Even Number\")\n",
    "    else:\n",
    "        print(num,\"is Odd Number\")\n",
    "even_odd(10)\n",
    "even_odd(15)\n",
    "even_odd(14)\n",
    "even_odd(20)"
   ]
  },
  {
   "attachments": {},
   "cell_type": "markdown",
   "metadata": {},
   "source": [
    "<h3><b> Q. Write a function to Find factorial of given number?</b></h3>"
   ]
  },
  {
   "cell_type": "code",
   "execution_count": 41,
   "metadata": {},
   "outputs": [
    {
     "name": "stdout",
     "output_type": "stream",
     "text": [
      "30\n",
      "The Factorial of 1 is : 1\n",
      "The Factorial of 2 is : 2\n",
      "The Factorial of 3 is : 6\n",
      "The Factorial of 4 is : 24\n",
      "The Factorial of 5 is : 120\n"
     ]
    }
   ],
   "source": [
    "def fact(num):\n",
    "    result=1\n",
    "    while num>=1:\n",
    "        result =result*num\n",
    "        num = num-1\n",
    "    return result\n",
    "print(result)\n",
    "for i in range(1,6):\n",
    "    print(\"The Factorial of\",i,\"is :\",fact(i))"
   ]
  },
  {
   "attachments": {},
   "cell_type": "markdown",
   "metadata": {},
   "source": [
    "<b><h3><u>Return Multiple value From a Function:</u></h3></b>\n",
    "\n",
    "- In other language like c,c++ and Java, Function can return atmost one value. But in python, a function can return any number of values."
   ]
  },
  {
   "cell_type": "code",
   "execution_count": 42,
   "metadata": {},
   "outputs": [
    {
     "name": "stdout",
     "output_type": "stream",
     "text": [
      "The Sum is: 150\n",
      "The subtraction is: 50\n"
     ]
    }
   ],
   "source": [
    "def sum_sub(a,b):\n",
    "    sum=a+b\n",
    "    sub= a-b\n",
    "    return sum,sub\n",
    "x,y =sum_sub(100,50)\n",
    "print(\"The Sum is:\",x)\n",
    "print(\"The subtraction is:\",y)"
   ]
  },
  {
   "cell_type": "code",
   "execution_count": 43,
   "metadata": {},
   "outputs": [
    {
     "name": "stdout",
     "output_type": "stream",
     "text": [
      "The Result are\n",
      "150\n",
      "50\n",
      "5000\n",
      "2.0\n"
     ]
    }
   ],
   "source": [
    "# Eg-2\n",
    "def calc(a,b):\n",
    "    sum=a+b\n",
    "    sub=a-b\n",
    "    mul=a*b\n",
    "    div=a/b\n",
    "    return sum,sub,mul,div\n",
    "t= calc(100,50)\n",
    "print(\"The Result are\")\n",
    "for i in t:\n",
    "    print(i)"
   ]
  },
  {
   "attachments": {},
   "cell_type": "markdown",
   "metadata": {},
   "source": [
    "<u><h4>Types of arguments </h4></u>\n",
    "def f1(a,b):\n",
    "\n",
    "\n",
    "f1(10,20)\n",
    "\n",
    "- a,b are formal arguments where as 10,20 are actual arguments.\n",
    "\n",
    "* there are 4 types are actual arguments are allowed in python.\n",
    "     1. positional arguments.\n",
    "     2. keyword arguments.\n",
    "     3. default arguments.\n",
    "     4. varible length arguments.\n",
    "### 1. <u> Positional Arguments: </u>\n",
    "1. These are the arguments passed to function in correct positional order.\n",
    "2. def sub(a,b):\n",
    "3.     print(a-b)\n",
    "4. sub(100,200)\n",
    "5. sub(200,100)\n",
    "\n",
    "- The number of arguments and postion of arguments must be matched. if we change the order then result may be changed.\n",
    "- if we change the number of arguments then we will get error.\n",
    "\n",
    "### 1. <u> Keyword arguments: </u>\n",
    "we can pass arguments value by keyword i.e by parameter name.\n"
   ]
  },
  {
   "cell_type": "code",
   "execution_count": 44,
   "metadata": {},
   "outputs": [
    {
     "name": "stdout",
     "output_type": "stream",
     "text": [
      "hello Shubham Good morning\n",
      "hello Shubham Good Morning\n"
     ]
    }
   ],
   "source": [
    "def wish(name,msg):\n",
    "    print(\"hello\",name,msg)\n",
    "wish(name=\"Shubham\",msg=\"Good morning\")\n",
    "wish(msg=\"Good Morning\",name=\"Shubham\")\n",
    "\n",
    "# Here the order of arguments is not important but number of arguments must be matched."
   ]
  },
  {
   "attachments": {},
   "cell_type": "markdown",
   "metadata": {},
   "source": [
    "<b><u>Note:</u></b>\n",
    "we can use both positional and keyword arguments simultaneously. but first we have to take positional arguments and then keyword arguments.otherwise we will get syantaxerror."
   ]
  },
  {
   "cell_type": "code",
   "execution_count": 45,
   "metadata": {},
   "outputs": [
    {
     "name": "stdout",
     "output_type": "stream",
     "text": [
      "hello Shubham Good morning\n"
     ]
    }
   ],
   "source": [
    "def wish(name,msg):\n",
    "    print(\"hello\",name,msg)\n",
    "wish(\"Shubham\",\"Good morning\") # Valid"
   ]
  },
  {
   "cell_type": "code",
   "execution_count": 46,
   "metadata": {},
   "outputs": [
    {
     "name": "stdout",
     "output_type": "stream",
     "text": [
      "hello Shubham GoodMorning\n"
     ]
    }
   ],
   "source": [
    "wish(\"Shubham\",msg=\"GoodMorning\")  # valid"
   ]
  },
  {
   "cell_type": "code",
   "execution_count": 47,
   "metadata": {},
   "outputs": [
    {
     "ename": "SyntaxError",
     "evalue": "positional argument follows keyword argument (20980495.py, line 1)",
     "output_type": "error",
     "traceback": [
      "\u001b[1;36m  Cell \u001b[1;32mIn[47], line 1\u001b[1;36m\u001b[0m\n\u001b[1;33m    wish(name=\"Shubham\",\"GoodMorning\") #invalid\u001b[0m\n\u001b[1;37m                                     ^\u001b[0m\n\u001b[1;31mSyntaxError\u001b[0m\u001b[1;31m:\u001b[0m positional argument follows keyword argument\n"
     ]
    }
   ],
   "source": [
    "wish(name=\"Shubham\",\"GoodMorning\") #invalid\n",
    "\n",
    "# synatx error : postional arguments follows keyword argument"
   ]
  },
  {
   "attachments": {},
   "cell_type": "markdown",
   "metadata": {},
   "source": [
    "### <u> 3.Default Arguments </u>\n",
    "sometimes we can provide default values for our positional arguments.\n"
   ]
  },
  {
   "cell_type": "code",
   "execution_count": null,
   "metadata": {},
   "outputs": [
    {
     "name": "stdout",
     "output_type": "stream",
     "text": [
      "Hello shubham Good Morning\n",
      "Hello Guest Good Morning\n"
     ]
    }
   ],
   "source": [
    "def wish(name=\"Guest\"):\n",
    "    print(\"Hello\",name,\"Good Morning\")\n",
    "\n",
    "wish(\"shubham\")\n",
    "wish()"
   ]
  },
  {
   "attachments": {},
   "cell_type": "markdown",
   "metadata": {},
   "source": [
    "if we are not passing any name then only default value will be considered\n",
    "\n",
    "<u><b>***Note:-</b></u>\n",
    "\n",
    "- After default arguments we should not taken non default arguments.\n",
    "- def wish(name=\"Guest\",msg=\"Good Morning\") ====>valid\n",
    "- def wish(name,msg=\"Good morning)   =====>valid\n",
    "- def wish(name=\"Guest\",msg) ====>invalid\n",
    "\n",
    "#SyntaxError: non-default argument follows default argument"
   ]
  },
  {
   "attachments": {},
   "cell_type": "markdown",
   "metadata": {},
   "source": [
    "### <u>4. Varible length Arguments :-</u>\n",
    "- Sometimes we can pass varible number of arguments to our Functon,such type of arguments are called varible length arguments.\n",
    "\n",
    "- we can declare a varible length arguments with * symbol as follows.\n",
    "\n",
    "- def f1(*n)\n",
    "\n",
    "- we can call the Function by passing any number of arguments including zero number.internally all these value represented in the from of tuples.\n",
    "\n",
    "\n"
   ]
  },
  {
   "cell_type": "code",
   "execution_count": null,
   "metadata": {},
   "outputs": [
    {
     "name": "stdout",
     "output_type": "stream",
     "text": [
      "The Sum= 0\n",
      "The Sum= 10\n",
      "The Sum= 30\n",
      "The Sum= 100\n"
     ]
    }
   ],
   "source": [
    "def sum(*n):\n",
    "    total =0\n",
    "    for n1 in n:\n",
    "        total = total +n1\n",
    "    print(\"The Sum=\",total)\n",
    "\n",
    "sum()\n",
    "sum(10)\n",
    "sum(10,20)\n",
    "sum(10,20,30,40)\n"
   ]
  },
  {
   "attachments": {},
   "cell_type": "markdown",
   "metadata": {},
   "source": [
    "<b><u>Note:- </u></b>\n",
    "we can mix varible length arguuments with positional arguments."
   ]
  },
  {
   "cell_type": "code",
   "execution_count": null,
   "metadata": {},
   "outputs": [
    {
     "name": "stdout",
     "output_type": "stream",
     "text": [
      "10\n",
      "10\n",
      "20\n",
      "30\n",
      "40\n",
      "10\n",
      "A\n",
      "30\n",
      "B\n"
     ]
    }
   ],
   "source": [
    "def f1(n1, *s):\n",
    "    print(n1)\n",
    "    for s1 in s:\n",
    "        print(s1)\n",
    "    \n",
    "\n",
    "f1(10)\n",
    "f1(10,20,30,40)\n",
    "f1(10,\"A\",30,\"B\")"
   ]
  },
  {
   "attachments": {},
   "cell_type": "markdown",
   "metadata": {},
   "source": [
    "<b><u>Note:</u></b> After variable length argument,if we are taking any other arguments then we should provide values as keyword arguments.\n"
   ]
  },
  {
   "cell_type": "code",
   "execution_count": null,
   "metadata": {},
   "outputs": [
    {
     "name": "stdout",
     "output_type": "stream",
     "text": [
      "A\n",
      "B\n",
      "10\n"
     ]
    }
   ],
   "source": [
    "def f1(*s,n1):\n",
    "    for s1 in s:\n",
    "        print(s1)\n",
    "    print(n1)\n",
    "f1(\"A\",\"B\", n1=10)\n",
    "\n",
    "# f1(\"A\",\"B\",10)  ===> Invalid\n",
    "#TypeError: f1() missing 1 required keyword-only arguments:'n1'\n",
    "\n"
   ]
  },
  {
   "attachments": {},
   "cell_type": "markdown",
   "metadata": {},
   "source": [
    "<b><u>Note:</u></b> \n",
    "\n",
    "- we can declear key word varible length arguments also.\n",
    "for this we have to use **.\n",
    "- def f1(**n):\n",
    "- we can call this function by passing any number of keyword arguments.\n",
    "- internally these keyword arguments will be stored inside a dictionary.\n"
   ]
  },
  {
   "cell_type": "code",
   "execution_count": null,
   "metadata": {},
   "outputs": [
    {
     "name": "stdout",
     "output_type": "stream",
     "text": [
      "n1 = 10\n",
      "n2 = 20\n",
      "n3 = 30\n",
      "rno = 100\n",
      "name = shubham\n",
      "marks = 80\n",
      "subject = Python\n"
     ]
    }
   ],
   "source": [
    "def display(**kwargs):\n",
    "    for k,v in kwargs.items():\n",
    "        print(k,\"=\",v)\n",
    "display(n1=10,n2=20,n3=30)\n",
    "display(rno=100,name=\"shubham\",marks=80,subject=\"Python\")"
   ]
  },
  {
   "attachments": {},
   "cell_type": "markdown",
   "metadata": {},
   "source": [
    "<u><b>case study</b></u>\n",
    "\n",
    "def f(arg1,arg2,arg3=4,arg4=8):\n",
    "        print(arg1,arg2,arg3,arg4)\n",
    "\n",
    "1. f(3,2)====>  3   2   4   8\n",
    "\n",
    "2. f(10,20,30,40) ====> 10   20   30   40\n",
    "\n",
    "3. f(25,50,arg4=100)  ====> 25 50 4 100\n",
    "\n",
    "4. f(arg4=2,arg1=3,arg2=4)  ====> 3   4   4  2\n",
    "\n",
    "5. f() ====> invalid\n",
    " - TypeError: f() missing 2 required positional arguments:'arg1' and 'arg2'\n",
    "\n",
    "6. f(arg4=2,arg1=3,arg2=4) ====> invalid\n",
    "-  SyntaxError: positional argument follows keyword argument  [After keyword arguments we should not take positional arguments]\n",
    "\n",
    "7. f(4,5,arg2=6) ====>invalid\n",
    "- TypeError: f() got multiple values for argument 'arg2'\n",
    "\n",
    "8. f(4,5,arg=3=5,arg=6)  ====>Invalid\n",
    "-  TypeError: f() got multiple values for argument 'arg2'\n",
    "\n",
    "<b><u>Note:-</u></b> Function vs Module Vs Library\n",
    "\n",
    "1. A group of line with some name is called Function\n",
    "2. A group of Function saved to a File, is called Module.\n",
    "3. A group of Modules is nothin but Libary.\n",
    "\n",
    "<img src=\"Function.PNG\" alt=\"Function Vs Module Vs Library\">\n",
    "\n",
    "## <u> Types Of Varibles </u>\n",
    "- python support two type of variables.\n",
    "\n",
    "1. Global Variables.\n",
    "2. Local Variables.\n",
    "\n",
    "### <u> Global Varibles </u>\n",
    "The varibles which are declared outside of function are called global varibles.These varibles can be accessed in all of that module.\n"
   ]
  },
  {
   "cell_type": "code",
   "execution_count": null,
   "metadata": {},
   "outputs": [
    {
     "name": "stdout",
     "output_type": "stream",
     "text": [
      "10\n",
      "10\n"
     ]
    }
   ],
   "source": [
    "a=10 # Global Varibles\n",
    "def f1():\n",
    "    print(a)\n",
    "\n",
    "def f2():\n",
    "    print(a)\n",
    "\n",
    "f1()\n",
    "f2()\n"
   ]
  },
  {
   "attachments": {},
   "cell_type": "markdown",
   "metadata": {},
   "source": [
    "### <u> Local Varibles: </u>\n",
    "The variable which are declared inside a function are called varibles.local varibles are avilables only for the function in which we decleared it.i.e frm outside of function we cannot access."
   ]
  },
  {
   "cell_type": "code",
   "execution_count": null,
   "metadata": {},
   "outputs": [
    {
     "name": "stdout",
     "output_type": "stream",
     "text": [
      "10\n",
      "10\n"
     ]
    }
   ],
   "source": [
    "def f1():\n",
    "    a=10\n",
    "    print(a)  # valid\n",
    "\n",
    "def f2():\n",
    "    print(a)  # invalid\n",
    "\n",
    "\n",
    "f1()\n",
    "f2()"
   ]
  },
  {
   "attachments": {},
   "cell_type": "markdown",
   "metadata": {},
   "source": [
    "### <u> Global keyword: </u>\n",
    "- we can use Global Keyword For the Following two purpose.\n",
    "\n",
    "1. To declare global varible inside fuction.\n",
    "2. To make global varibles available to the function so that we can perfrom required Modification."
   ]
  },
  {
   "cell_type": "code",
   "execution_count": null,
   "metadata": {},
   "outputs": [
    {
     "name": "stdout",
     "output_type": "stream",
     "text": [
      "777\n",
      "10\n"
     ]
    }
   ],
   "source": [
    "a =10\n",
    "def f1():\n",
    "    a=777\n",
    "    print(a)\n",
    "def f2():\n",
    "    print(a)\n",
    "\n",
    "f1()\n",
    "f2()"
   ]
  },
  {
   "cell_type": "code",
   "execution_count": null,
   "metadata": {},
   "outputs": [
    {
     "name": "stdout",
     "output_type": "stream",
     "text": [
      "777\n",
      "777\n"
     ]
    }
   ],
   "source": [
    "a=10\n",
    "def f1():\n",
    "    global a\n",
    "    a=777\n",
    "    print(a)\n",
    "\n",
    "def f2():\n",
    "    print(a)\n",
    "\n",
    "f1()\n",
    "f2()"
   ]
  },
  {
   "cell_type": "code",
   "execution_count": null,
   "metadata": {},
   "outputs": [
    {
     "name": "stdout",
     "output_type": "stream",
     "text": [
      "10\n",
      "777\n"
     ]
    }
   ],
   "source": [
    "def f1():\n",
    "    a=10\n",
    "    print(a)\n",
    "\n",
    "def f2():\n",
    "    print(a)\n",
    "\n",
    "f1()\n",
    "f2()"
   ]
  },
  {
   "cell_type": "code",
   "execution_count": null,
   "metadata": {},
   "outputs": [
    {
     "name": "stdout",
     "output_type": "stream",
     "text": [
      "10\n",
      "10\n"
     ]
    }
   ],
   "source": [
    "def f1():\n",
    "    global a\n",
    "    a=10\n",
    "    print(a)\n",
    "\n",
    "def f2():\n",
    "    print(a)\n",
    "\n",
    "f1()\n",
    "f2()\n"
   ]
  },
  {
   "attachments": {},
   "cell_type": "markdown",
   "metadata": {},
   "source": [
    "<u><b>Note:</b></u> if global variable and Local variable having the same name then we can access global varible inside a function as follows.\n"
   ]
  },
  {
   "cell_type": "code",
   "execution_count": null,
   "metadata": {},
   "outputs": [
    {
     "name": "stdout",
     "output_type": "stream",
     "text": [
      "777\n",
      "10\n"
     ]
    }
   ],
   "source": [
    "a= 10\n",
    "def f1():\n",
    "    a=777 #local Variable \n",
    "    print(a)\n",
    "    print(globals()['a'])\n",
    "\n",
    "f1()"
   ]
  },
  {
   "attachments": {},
   "cell_type": "markdown",
   "metadata": {},
   "source": [
    "## <U> Recursive Function </U>\n",
    "- A Function that calls itself is known as is knowns as recursive Function \n",
    "\n",
    "Eg:-\n",
    "1. Factorial(3) = 3*factorial(2)\n",
    "\n",
    "2.              = 3*2*factorial(1) \n",
    "3.              = 3*2*1*factorial(0)\n",
    "4.              = 3*2*1*1\n",
    "5.              = 6\n",
    "\n",
    "- factorial(n) =n*factorial(n-1)\n",
    "\n",
    "-  __The Main Advantage of recursive Function are:__\n",
    "1. we can reduces length of the code and improve readability\n",
    "2. we can solve complex problem very easily\n",
    "\n",
    "<h3><b> Q. Write a Python Function to find factorial of given number with recursion.?</b></h3>"
   ]
  },
  {
   "cell_type": "code",
   "execution_count": null,
   "metadata": {},
   "outputs": [
    {
     "name": "stdout",
     "output_type": "stream",
     "text": [
      "Factorial of 4 is: 24\n",
      "Factorial of 5 is: 120\n"
     ]
    }
   ],
   "source": [
    "def factorial(n):\n",
    "    if n==0:\n",
    "        result=1\n",
    "    else:\n",
    "        result= n*factorial(n-1)\n",
    "    return result\n",
    "print(\"Factorial of 4 is:\",factorial(4))\n",
    "print(\"Factorial of 5 is:\",factorial(5))\n",
    "\n"
   ]
  },
  {
   "attachments": {},
   "cell_type": "markdown",
   "metadata": {},
   "source": [
    "## <u><b> anonymous Function </b></u>\n",
    "- sometimes we can declear a function without any name, such type of nameless functions are called anonymous or lambda function.\n",
    "\n",
    "- This main purpose of anonymous function is just for instant use(i.e For one time usage)\n",
    "\n",
    "### <u>Normal Functiom: </u>\n",
    "- we can define by using def function keyword.\n",
    "1.  def squarelt(n)\n",
    "2.    return n*n\n",
    "\n",
    "## <u><b> lambda Function: </b></u>\n",
    "- we can define by using lambda keyword.\n",
    "- lambda n:n*n\n",
    "\n",
    "### <u> Syntax of lambda Function </u>\n",
    "lambda Argument_list:expression\n",
    "\n",
    "<b><u>Note:</u></b> By using lambda Function we can write every concise code so that readability of the program will be improved.\n",
    "\n",
    "<h3><b> Q. Write a program to create a lambda function to find square of given \n",
    "number.?</b></h3>\n",
    "\n",
    "\n",
    "\n"
   ]
  },
  {
   "cell_type": "code",
   "execution_count": null,
   "metadata": {},
   "outputs": [
    {
     "name": "stdout",
     "output_type": "stream",
     "text": [
      "The Square of 4 is : 16\n",
      "The Square of 5 : 25\n"
     ]
    }
   ],
   "source": [
    "s= lambda n:n*n\n",
    "print(\"The Square of 4 is :\",s(4))\n",
    "print(\"The Square of 5 :\",s(5))"
   ]
  },
  {
   "attachments": {},
   "cell_type": "markdown",
   "metadata": {},
   "source": [
    "<h3><b> Q. Lambda function to find sum of 2 given numbers.?</b></h3>"
   ]
  },
  {
   "cell_type": "code",
   "execution_count": null,
   "metadata": {},
   "outputs": [
    {
     "name": "stdout",
     "output_type": "stream",
     "text": [
      "The Sum of 10,20 is: 30\n",
      "The Sum of 100,200 is: 300\n"
     ]
    }
   ],
   "source": [
    "s= lambda a,b:a+b\n",
    "print(\"The Sum of 10,20 is:\",s(10,20))\n",
    "print(\"The Sum of 100,200 is:\",s(100,200))"
   ]
  },
  {
   "attachments": {},
   "cell_type": "markdown",
   "metadata": {},
   "source": [
    "<h3><b> Q. Lambda Function to find biggest of given values.?</b></h3>"
   ]
  },
  {
   "cell_type": "code",
   "execution_count": null,
   "metadata": {},
   "outputs": [
    {
     "name": "stdout",
     "output_type": "stream",
     "text": [
      "The Biggest of 10,20 is: 20\n",
      "The Biggest of 100,200 is: 200\n"
     ]
    }
   ],
   "source": [
    "s = lambda a,b:a if a>b else b\n",
    "print(\"The Biggest of 10,20 is:\",s(10,20))\n",
    "print(\"The Biggest of 100,200 is:\",s(100,200))"
   ]
  },
  {
   "attachments": {},
   "cell_type": "markdown",
   "metadata": {},
   "source": [
    "<b><u>Note:</u></b>Lambda Function internally returns expression value and we are not required to write \n",
    "return statement explicitly.\n",
    "\n",
    "<b><u>Note:</u></b> Sometimes we can pass function as argument to another function. In such cases \n",
    "lambda functions are best choice\n",
    "\n",
    "- We can use lambda functions very commonly with filter(),map() and reduce() functions,because these functions expect function as argument <br>\n",
    "\n",
    "## <u><b> filter(): </b></u><br>\n",
    "- we can use Filter() Function to Filter value the Given Secquence based on same Condition.\n",
    "- filter(function , sequence)\n",
    "- where function arguments is responsible to perfrom conditional check sequence can be list or tuples or string.<br>\n",
    "\n",
    "<h3><b> Q. Lambda Function to find biggest of given values.?</b></h3><br>\n",
    "\n"
   ]
  },
  {
   "cell_type": "code",
   "execution_count": 2,
   "metadata": {},
   "outputs": [
    {
     "name": "stdout",
     "output_type": "stream",
     "text": [
      "[0, 10, 20, 30]\n"
     ]
    }
   ],
   "source": [
    "\n",
    "# Without lambda function \n",
    "def isEven(x):\n",
    "    if x%2 ==0:\n",
    "        return True\n",
    "    else:\n",
    "        return False\n",
    "l=[0,5,10,15,20,25,30]\n",
    "l1=list(filter(isEven,l))\n",
    "print(l1)"
   ]
  },
  {
   "cell_type": "code",
   "execution_count": 4,
   "metadata": {},
   "outputs": [
    {
     "name": "stdout",
     "output_type": "stream",
     "text": [
      "[0, 10, 20, 30]\n",
      "[5, 15, 25]\n"
     ]
    }
   ],
   "source": [
    "# with lambda Function\n",
    "l = [0,5,10,15,20,25,30]\n",
    "l1= list(filter(lambda x:x%2==0,l))\n",
    "print(l1)\n",
    "l2= list(filter(lambda x:x%2!=0,l))\n",
    "print(l2)"
   ]
  },
  {
   "attachments": {},
   "cell_type": "markdown",
   "metadata": {},
   "source": [
    "## <u><b> Map Function: </b></u><br>\n",
    "- For every elements present in the Given Sequence, apply some Functionlity and generate new elements with the required modification. for this requirements we should go for map() Function.\n",
    "- e.g For Every Elements presents in the list perfrom double and genrate new list of Doubles.\n",
    "- map(function , sequence)\n",
    "- The Function can be applied on each elements of sequence and generates new sequence.<br>\n",
    "\n"
   ]
  },
  {
   "cell_type": "code",
   "execution_count": 6,
   "metadata": {},
   "outputs": [
    {
     "name": "stdout",
     "output_type": "stream",
     "text": [
      "[2, 4, 6, 8, 10, 12]\n"
     ]
    }
   ],
   "source": [
    "# without lambda\n",
    "l=[1,2,3,4,5,6]\n",
    "def doublelt(x):\n",
    "    return 2*x\n",
    "l1 = list(map(doublelt,l))\n",
    "print(l1)"
   ]
  },
  {
   "cell_type": "code",
   "execution_count": 7,
   "metadata": {},
   "outputs": [
    {
     "name": "stdout",
     "output_type": "stream",
     "text": [
      "[2, 4, 6, 8, 10]\n"
     ]
    }
   ],
   "source": [
    "# with lambda\n",
    "l=[1,2,3,4,5]\n",
    "l1=list(map(lambda x:2*x,l))\n",
    "print(l1)"
   ]
  },
  {
   "attachments": {},
   "cell_type": "markdown",
   "metadata": {},
   "source": [
    "<h3><b> Q. To FInd Square Of Given Number.?</b></h3><br>"
   ]
  },
  {
   "cell_type": "code",
   "execution_count": 9,
   "metadata": {},
   "outputs": [
    {
     "name": "stdout",
     "output_type": "stream",
     "text": [
      "[1, 4, 9, 16, 25]\n"
     ]
    }
   ],
   "source": [
    "l =[1,2,3,4,5]\n",
    "l1 =list(map(lambda x:x*x,l))\n",
    "print(l1)"
   ]
  },
  {
   "attachments": {},
   "cell_type": "markdown",
   "metadata": {},
   "source": [
    "- we can apply map() Function on Multiple lists also. But make sure all list should have Same Length.\n",
    "- <u> Syntax :</u> map((lambda x,y:x*y,l1,l2))<br>\n",
    "                    x is from l1 and y is from l2\n",
    " "
   ]
  },
  {
   "cell_type": "code",
   "execution_count": 10,
   "metadata": {},
   "outputs": [
    {
     "name": "stdout",
     "output_type": "stream",
     "text": [
      "[2, 6, 12, 20]\n"
     ]
    }
   ],
   "source": [
    "l1=[1,2,3,4]\n",
    "l2=[2,3,4,5]\n",
    "l3=list(map(lambda x,y:x*y,l1,l2))\n",
    "print(l3)"
   ]
  },
  {
   "attachments": {},
   "cell_type": "markdown",
   "metadata": {},
   "source": [
    "## <u><b> Reduces Function: </b></u><br>\n",
    "- reduces() function reduces sequence of elements into a Single elements by applying the specified function.\n",
    "- e.g For Every Elements presents in the list perfrom double and genrate new list of Doubles.\n",
    "- reduces(function , sequence)\n",
    "- reduce() Function Present in Functools module and hence we should we should write import statements .<br>"
   ]
  },
  {
   "cell_type": "code",
   "execution_count": 13,
   "metadata": {},
   "outputs": [
    {
     "name": "stdout",
     "output_type": "stream",
     "text": [
      "150\n"
     ]
    }
   ],
   "source": [
    "from functools import *\n",
    "l =[10,20,30,40,50]\n",
    "result =reduce(lambda x,y:x+y,l)\n",
    "print(result)"
   ]
  },
  {
   "cell_type": "code",
   "execution_count": 14,
   "metadata": {},
   "outputs": [
    {
     "name": "stdout",
     "output_type": "stream",
     "text": [
      "12000000\n"
     ]
    }
   ],
   "source": [
    "result=reduce(lambda x,y:x*y,l)\n",
    "print(result)"
   ]
  },
  {
   "cell_type": "code",
   "execution_count": 15,
   "metadata": {},
   "outputs": [
    {
     "name": "stdout",
     "output_type": "stream",
     "text": [
      "5050\n"
     ]
    }
   ],
   "source": [
    "from functools import *\n",
    "result=reduce(lambda x,y:x+y,range(1,101))\n",
    "print(result)"
   ]
  },
  {
   "attachments": {},
   "cell_type": "markdown",
   "metadata": {},
   "source": [
    "##### <u>Note:</u><br>\n",
    "- in Python Every thing is treated as object\n",
    "- Even Function also internally treated as object only"
   ]
  },
  {
   "cell_type": "code",
   "execution_count": 16,
   "metadata": {},
   "outputs": [
    {
     "name": "stdout",
     "output_type": "stream",
     "text": [
      "<function f1 at 0x0000015E674A8820>\n",
      "1504971491360\n"
     ]
    }
   ],
   "source": [
    "def f1():\n",
    "    print(\"Hello\")\n",
    "print(f1)\n",
    "print(id(f1))"
   ]
  },
  {
   "attachments": {},
   "cell_type": "markdown",
   "metadata": {},
   "source": [
    "## <b> Function Alising </b><br>\n",
    "- For The exsting Function we can Give ANother Name, Which is Nothing but Function Alising.\n"
   ]
  },
  {
   "cell_type": "code",
   "execution_count": 5,
   "metadata": {},
   "outputs": [
    {
     "name": "stdout",
     "output_type": "stream",
     "text": [
      "2273047228864\n",
      "2273047228864\n",
      "Good Morning Shubham\n",
      "Good Morning Rahul\n"
     ]
    }
   ],
   "source": [
    "def wish(name):\n",
    "    print(\"Good Morning\",name)\n",
    "\n",
    "greeting = wish \n",
    "print(id(wish))\n",
    "print(id(greeting))\n",
    "\n",
    "greeting('Shubham')\n",
    "wish('Rahul')"
   ]
  },
  {
   "attachments": {},
   "cell_type": "markdown",
   "metadata": {},
   "source": [
    "<b>Note:</b></br>\n",
    "- In the above example only one function is available but we can call that function by using \n",
    "either wish name or greeting name.</br>\n",
    "- If we delete one name still we can access that function by using alias name\n"
   ]
  },
  {
   "cell_type": "code",
   "execution_count": 9,
   "metadata": {},
   "outputs": [
    {
     "name": "stdout",
     "output_type": "stream",
     "text": [
      "Good Morning shubham\n",
      "Good Morning Shubham\n",
      "Good Morning Rahul\n"
     ]
    }
   ],
   "source": [
    "def wish(name):\n",
    "    print(\"Good Morning\",name)\n",
    "\n",
    "greeting = wish\n",
    "greeting('shubham')\n",
    "wish('Shubham')\n",
    "\n",
    "del wish\n",
    "#wish('Rahul') ====> NameError : name 'Wish' is not defined \n",
    "greeting('Rahul')"
   ]
  },
  {
   "attachments": {},
   "cell_type": "markdown",
   "metadata": {},
   "source": [
    "## Nested Function:\n",
    "- we can declare a function inside another Function , such Types of Function are called Nested Function."
   ]
  },
  {
   "cell_type": "code",
   "execution_count": 12,
   "metadata": {},
   "outputs": [
    {
     "data": {
      "text/plain": [
       "<function __main__.outer()>"
      ]
     },
     "execution_count": 12,
     "metadata": {},
     "output_type": "execute_result"
    }
   ],
   "source": [
    "def outer():\n",
    "    print(\"outer function started\")\n",
    "    def inner():\n",
    "        print(\"inner Function Execution\")\n",
    "    print(\"outer function calling inner function\")\n",
    "    inner()\n",
    "outer\n",
    "#inner()"
   ]
  },
  {
   "attachments": {},
   "cell_type": "markdown",
   "metadata": {},
   "source": [
    "- In the above example inner() function is local to outer() function and hence it is not possible to call \n",
    "directly from outside of outer() function.\n",
    "\n",
    "- <b>Note:</b> A function can return another function."
   ]
  },
  {
   "cell_type": "code",
   "execution_count": 4,
   "metadata": {},
   "outputs": [
    {
     "name": "stdout",
     "output_type": "stream",
     "text": [
      "outer function started\n",
      "outer function returning inner function\n",
      "inner function execution\n",
      "inner function execution\n",
      "inner function execution\n"
     ]
    }
   ],
   "source": [
    "def outer():\n",
    "    print(\"outer function started\")\n",
    "    def inner():\n",
    "        print(\"inner function execution\")\n",
    "    print(\"outer function returning inner function\")\n",
    "    return inner\n",
    "f1 = outer()\n",
    "f1()\n",
    "f1()\n",
    "f1()"
   ]
  },
  {
   "attachments": {},
   "cell_type": "markdown",
   "metadata": {},
   "source": [
    "### Q. What is the differenece between the following lines?\n",
    " f1 = outer <br>\n",
    " f1 = outer()\n",
    " -  In the first case for the outer() function we are providing another name f1(function aliasing).<br>\n",
    " -  But in the second case we calling outer() function,which returns inner function.For that inner function() we are providing another name f1 <br>\n",
    " - <b>Note:</b> We can pass function as argument to another function\n",
    "- Eg: filter(function,sequence) <br>\n",
    "       map(function,sequence) <br>\n",
    "      reduce(function,sequence) "
   ]
  },
  {
   "cell_type": "code",
   "execution_count": null,
   "metadata": {},
   "outputs": [],
   "source": []
  }
 ],
 "metadata": {
  "kernelspec": {
   "display_name": "base",
   "language": "python",
   "name": "python3"
  },
  "language_info": {
   "codemirror_mode": {
    "name": "ipython",
    "version": 3
   },
   "file_extension": ".py",
   "mimetype": "text/x-python",
   "name": "python",
   "nbconvert_exporter": "python",
   "pygments_lexer": "ipython3",
   "version": "3.10.9"
  },
  "orig_nbformat": 4
 },
 "nbformat": 4,
 "nbformat_minor": 2
}
