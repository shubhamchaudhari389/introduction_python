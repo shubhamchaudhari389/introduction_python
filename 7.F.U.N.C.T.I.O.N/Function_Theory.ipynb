{
 "cells": [
  {
   "attachments": {},
   "cell_type": "markdown",
   "metadata": {},
   "source": [
    "<h1 style=\"color:Tomato;\"><center><b> FUNCTION </b></center></h1>\n",
    "\n",
    "- if a group of statements is repeatedly required then it is not recommended to erite these statements everytimes seperately.\n",
    "- we have to define these statements as a single unit and we can call that unit and we can call that unit any number of times based on our requirement without rewriting.this unit is nothing but function.\n",
    "- The main advantage of function is code Resability.\n",
    "- <b>Note</b>:- In other language function are knowns as method , Procedure , subroutine etc.\n",
    "\n",
    "- Python Support 2 Type of functions\n",
    "\n",
    "1. Built in Functions.\n",
    "2. User Defined Function.\n",
    "\n",
    "1. <b><u>Built in Function: </u></b>\n",
    "- The Functions which are comming along with Python Softwere automatically, are called built in function or pre defined function.\n",
    "- eg.\n",
    "   1. id()\n",
    "   2. type()\n",
    "   3. input()\n",
    "   4. eval()\n",
    "   etc.....\n",
    "\n",
    "2. <b><u> User Defined Function:</u> </b>\n",
    "- The Function which are developed by programing explicitty according to business requirements, are called user defined function.\n",
    "\n",
    "__Syntax to create user defined function__:-\n",
    "\n",
    "Def  Function_name(parameters):\n",
    "\"\"\" doc string \"\"\"\n",
    ".........................\n",
    ".........................\n",
    "return value\n",
    "\n",
    "<b>Note:</b>While creating we can use 2 keywords\n",
    "1. def(mandatory)\n",
    "2. reurn(optional)\n",
    "\n",
    "### Eg.1 Write a function to print Hello"
   ]
  },
  {
   "cell_type": "code",
   "execution_count": 45,
   "metadata": {},
   "outputs": [
    {
     "name": "stdout",
     "output_type": "stream",
     "text": [
      "Hello Good Morning\n",
      "Hello Good Morning\n",
      "Hello Good Morning\n"
     ]
    }
   ],
   "source": [
    "def wish():\n",
    "    print(\"Hello Good Morning\")\n",
    "wish()\n",
    "wish()\n",
    "wish()\n"
   ]
  },
  {
   "attachments": {},
   "cell_type": "markdown",
   "metadata": {},
   "source": [
    "<b><h2>Parameter</h2></b>\n",
    "\n",
    "-  parameter are input to the function.if a function contain parameters, then at the times of calling, compulsory we should provided values otherwise , oterwise we will get error.\n",
    "\n",
    "- <b>Eg</b>: Write a Function to take name of the student as input wish meassage by name?\n",
    "\n"
   ]
  },
  {
   "cell_type": "code",
   "execution_count": 46,
   "metadata": {},
   "outputs": [
    {
     "name": "stdout",
     "output_type": "stream",
     "text": [
      "Hello Durga Good Morning\n",
      "Hello Ravi Good Morning\n"
     ]
    }
   ],
   "source": [
    "def wish(name):\n",
    "    print(\"Hello\",name,\"Good Morning\")\n",
    "wish(\"Durga\")\n",
    "wish(\"Ravi\")"
   ]
  },
  {
   "attachments": {},
   "cell_type": "markdown",
   "metadata": {},
   "source": [
    "- <b>Eg</b>: Write a function to take number as input and ?"
   ]
  },
  {
   "cell_type": "code",
   "execution_count": 47,
   "metadata": {},
   "outputs": [
    {
     "name": "stdout",
     "output_type": "stream",
     "text": [
      "The Square of 4 is 16\n"
     ]
    }
   ],
   "source": [
    "def squarelt(number):\n",
    "    print(\"The Square of\",number,\"is\",number*number)\n",
    "squarelt(4)"
   ]
  },
  {
   "cell_type": "code",
   "execution_count": 48,
   "metadata": {},
   "outputs": [
    {
     "name": "stdout",
     "output_type": "stream",
     "text": [
      "The Square of 5 is 25\n"
     ]
    }
   ],
   "source": [
    "squarelt(5)"
   ]
  },
  {
   "attachments": {},
   "cell_type": "markdown",
   "metadata": {},
   "source": [
    "## __Return Statements__\n",
    "Function can take input values as parameters and executes business logic, and return output to the caller with return statements.\n",
    "\n",
    "### Q. Write a Function to accept 2 numbers as input and return sum.\n"
   ]
  },
  {
   "cell_type": "code",
   "execution_count": 49,
   "metadata": {},
   "outputs": [
    {
     "name": "stdout",
     "output_type": "stream",
     "text": [
      "The sum is 30\n",
      "The sum is 300\n"
     ]
    }
   ],
   "source": [
    "def add(x,y):\n",
    "    return x+y\n",
    "result= add(10,20)\n",
    "print(\"The sum is\",result)\n",
    "print(\"The sum is\",add(100,200))\n",
    "\n",
    "# if you are not writing return statements then default return value is none.\n"
   ]
  },
  {
   "cell_type": "code",
   "execution_count": 50,
   "metadata": {},
   "outputs": [
    {
     "name": "stdout",
     "output_type": "stream",
     "text": [
      "hello\n",
      "hello\n",
      "None\n"
     ]
    }
   ],
   "source": [
    "def f1():\n",
    "    print(\"hello\")\n",
    "f1()\n",
    "print(f1())\n"
   ]
  },
  {
   "attachments": {},
   "cell_type": "markdown",
   "metadata": {},
   "source": [
    "### Q. Write a function to check whether the given number is even or odd?"
   ]
  },
  {
   "cell_type": "code",
   "execution_count": 51,
   "metadata": {},
   "outputs": [
    {
     "name": "stdout",
     "output_type": "stream",
     "text": [
      "10 is Even Number\n",
      "15 is Odd Number\n",
      "14 is Even Number\n",
      "20 is Even Number\n"
     ]
    }
   ],
   "source": [
    "def even_odd(num):\n",
    "    if num%2==0:\n",
    "        print(num,\"is Even Number\")\n",
    "    else:\n",
    "        print(num,\"is Odd Number\")\n",
    "even_odd(10)\n",
    "even_odd(15)\n",
    "even_odd(14)\n",
    "even_odd(20)"
   ]
  },
  {
   "attachments": {},
   "cell_type": "markdown",
   "metadata": {},
   "source": [
    "<h3><b> Q. Write a function to Find factorial of given number?</b></h3>"
   ]
  },
  {
   "cell_type": "code",
   "execution_count": 52,
   "metadata": {},
   "outputs": [
    {
     "name": "stdout",
     "output_type": "stream",
     "text": [
      "30\n",
      "The Factorial of 1 is : 1\n",
      "The Factorial of 2 is : 2\n",
      "The Factorial of 3 is : 6\n",
      "The Factorial of 4 is : 24\n",
      "The Factorial of 5 is : 120\n"
     ]
    }
   ],
   "source": [
    "def fact(num):\n",
    "    result=1\n",
    "    while num>=1:\n",
    "        result =result*num\n",
    "        num = num-1\n",
    "    return result\n",
    "print(result)\n",
    "for i in range(1,6):\n",
    "    print(\"The Factorial of\",i,\"is :\",fact(i))"
   ]
  },
  {
   "attachments": {},
   "cell_type": "markdown",
   "metadata": {},
   "source": [
    "<b><h3><u>Return Multiple value From a Function:</u></h3></b>\n",
    "\n",
    "- In other language like c,c++ and Java, Function can return atmost one value. But in python, a function can return any number of values."
   ]
  },
  {
   "cell_type": "code",
   "execution_count": 53,
   "metadata": {},
   "outputs": [
    {
     "name": "stdout",
     "output_type": "stream",
     "text": [
      "The Sum is: 150\n",
      "The subtraction is: 50\n"
     ]
    }
   ],
   "source": [
    "def sum_sub(a,b):\n",
    "    sum=a+b\n",
    "    sub= a-b\n",
    "    return sum,sub\n",
    "x,y =sum_sub(100,50)\n",
    "print(\"The Sum is:\",x)\n",
    "print(\"The subtraction is:\",y)"
   ]
  },
  {
   "cell_type": "code",
   "execution_count": 54,
   "metadata": {},
   "outputs": [
    {
     "name": "stdout",
     "output_type": "stream",
     "text": [
      "The Result are\n",
      "150\n",
      "50\n",
      "5000\n",
      "2.0\n"
     ]
    }
   ],
   "source": [
    "# Eg-2\n",
    "def calc(a,b):\n",
    "    sum=a+b\n",
    "    sub=a-b\n",
    "    mul=a*b\n",
    "    div=a/b\n",
    "    return sum,sub,mul,div\n",
    "t= calc(100,50)\n",
    "print(\"The Result are\")\n",
    "for i in t:\n",
    "    print(i)"
   ]
  },
  {
   "attachments": {},
   "cell_type": "markdown",
   "metadata": {},
   "source": [
    "<u><h4>Types of arguments </h4></u>\n",
    "def f1(a,b):\n",
    "\n",
    "\n",
    "f1(10,20)\n",
    "\n",
    "- a,b are formal arguments where as 10,20 are actual arguments.\n",
    "\n",
    "* there are 4 types are actual arguments are allowed in python.\n",
    "     1. positional arguments.\n",
    "     2. keyword arguments.\n",
    "     3. default arguments.\n",
    "     4. varible length arguments.\n",
    "### 1. <u> Positional Arguments: </u>\n",
    "1. These are the arguments passed to function in correct positional order.\n",
    "2. def sub(a,b):\n",
    "3.     print(a-b)\n",
    "4. sub(100,200)\n",
    "5. sub(200,100)\n",
    "\n",
    "- The number of arguments and postion of arguments must be matched. if we change the order then result may be changed.\n",
    "- if we change the number of arguments then we will get error.\n",
    "\n",
    "### 1. <u> Keyword arguments: </u>\n",
    "we can pass arguments value by keyword i.e by parameter name.\n"
   ]
  },
  {
   "cell_type": "code",
   "execution_count": 55,
   "metadata": {},
   "outputs": [
    {
     "name": "stdout",
     "output_type": "stream",
     "text": [
      "hello Shubham Good morning\n",
      "hello Shubham Good Morning\n"
     ]
    }
   ],
   "source": [
    "def wish(name,msg):\n",
    "    print(\"hello\",name,msg)\n",
    "wish(name=\"Shubham\",msg=\"Good morning\")\n",
    "wish(msg=\"Good Morning\",name=\"Shubham\")\n",
    "\n",
    "# Here the order of arguments is not important but number of arguments must be matched."
   ]
  },
  {
   "attachments": {},
   "cell_type": "markdown",
   "metadata": {},
   "source": [
    "<b><u>Note:</u></b>\n",
    "we can use both positional and keyword arguments simultaneously. but first we have to take positional arguments and then keyword arguments.otherwise we will get syantaxerror."
   ]
  },
  {
   "cell_type": "code",
   "execution_count": 56,
   "metadata": {},
   "outputs": [
    {
     "name": "stdout",
     "output_type": "stream",
     "text": [
      "hello Shubham Good morning\n"
     ]
    }
   ],
   "source": [
    "def wish(name,msg):\n",
    "    print(\"hello\",name,msg)\n",
    "wish(\"Shubham\",\"Good morning\") # Valid"
   ]
  },
  {
   "cell_type": "code",
   "execution_count": 57,
   "metadata": {},
   "outputs": [
    {
     "name": "stdout",
     "output_type": "stream",
     "text": [
      "hello Shubham GoodMorning\n"
     ]
    }
   ],
   "source": [
    "wish(\"Shubham\",msg=\"GoodMorning\")  # valid"
   ]
  },
  {
   "cell_type": "code",
   "execution_count": 58,
   "metadata": {},
   "outputs": [
    {
     "ename": "SyntaxError",
     "evalue": "positional argument follows keyword argument (20980495.py, line 1)",
     "output_type": "error",
     "traceback": [
      "\u001b[1;36m  Cell \u001b[1;32mIn[58], line 1\u001b[1;36m\u001b[0m\n\u001b[1;33m    wish(name=\"Shubham\",\"GoodMorning\") #invalid\u001b[0m\n\u001b[1;37m                                     ^\u001b[0m\n\u001b[1;31mSyntaxError\u001b[0m\u001b[1;31m:\u001b[0m positional argument follows keyword argument\n"
     ]
    }
   ],
   "source": [
    "wish(name=\"Shubham\",\"GoodMorning\") #invalid\n",
    "\n",
    "# synatx error : postional arguments follows keyword argument"
   ]
  },
  {
   "attachments": {},
   "cell_type": "markdown",
   "metadata": {},
   "source": [
    "### <u> 3.Default Arguments </u>\n",
    "sometimes we can provide default values for our positional arguments.\n"
   ]
  },
  {
   "cell_type": "code",
   "execution_count": null,
   "metadata": {},
   "outputs": [
    {
     "name": "stdout",
     "output_type": "stream",
     "text": [
      "Hello shubham Good Morning\n",
      "Hello Guest Good Morning\n"
     ]
    }
   ],
   "source": [
    "def wish(name=\"Guest\"):\n",
    "    print(\"Hello\",name,\"Good Morning\")\n",
    "\n",
    "wish(\"shubham\")\n",
    "wish()"
   ]
  },
  {
   "attachments": {},
   "cell_type": "markdown",
   "metadata": {},
   "source": [
    "if we are not passing any name then only default value will be considered\n",
    "\n",
    "<u><b>***Note:-</b></u>\n",
    "\n",
    "- After default arguments we should not taken non default arguments.\n",
    "- def wish(name=\"Guest\",msg=\"Good Morning\") ====>valid\n",
    "- def wish(name,msg=\"Good morning)   =====>valid\n",
    "- def wish(name=\"Guest\",msg) ====>invalid\n",
    "\n",
    "#SyntaxError: non-default argument follows default argument"
   ]
  },
  {
   "attachments": {},
   "cell_type": "markdown",
   "metadata": {},
   "source": [
    "### <u>4. Varible length Arguments :-</u>\n",
    "- Sometimes we can pass varible number of arguments to our Functon,such type of arguments are called varible length arguments.\n",
    "\n",
    "- we can declare a varible length arguments with * symbol as follows.\n",
    "\n",
    "- def f1(*n)\n",
    "\n",
    "- we can call the Function by passing any number of arguments including zero number.internally all these value represented in the from of tuples.\n",
    "\n",
    "\n"
   ]
  },
  {
   "cell_type": "code",
   "execution_count": 61,
   "metadata": {},
   "outputs": [
    {
     "name": "stdout",
     "output_type": "stream",
     "text": [
      "The Sum= 0\n",
      "The Sum= 10\n",
      "The Sum= 30\n",
      "The Sum= 100\n"
     ]
    }
   ],
   "source": [
    "def sum(*n):\n",
    "    total =0\n",
    "    for n1 in n:\n",
    "        total = total +n1\n",
    "    print(\"The Sum=\",total)\n",
    "\n",
    "sum()\n",
    "sum(10)\n",
    "sum(10,20)\n",
    "sum(10,20,30,40)\n"
   ]
  },
  {
   "attachments": {},
   "cell_type": "markdown",
   "metadata": {},
   "source": [
    "<b><u>Note:- </u></b>\n",
    "we can mix varible length arguuments with positional arguments."
   ]
  },
  {
   "cell_type": "code",
   "execution_count": 64,
   "metadata": {},
   "outputs": [
    {
     "name": "stdout",
     "output_type": "stream",
     "text": [
      "10\n",
      "10\n",
      "20\n",
      "30\n",
      "40\n",
      "10\n",
      "A\n",
      "30\n",
      "B\n"
     ]
    }
   ],
   "source": [
    "def f1(n1, *s):\n",
    "    print(n1)\n",
    "    for s1 in s:\n",
    "        print(s1)\n",
    "    \n",
    "\n",
    "f1(10)\n",
    "f1(10,20,30,40)\n",
    "f1(10,\"A\",30,\"B\")"
   ]
  },
  {
   "attachments": {},
   "cell_type": "markdown",
   "metadata": {},
   "source": [
    "<b><u>Note:<u><b> After variable length argument,if we are taking any other arguments then we should provide values as keyword arguments.\n"
   ]
  },
  {
   "cell_type": "code",
   "execution_count": 66,
   "metadata": {},
   "outputs": [
    {
     "name": "stdout",
     "output_type": "stream",
     "text": [
      "A\n",
      "B\n",
      "10\n"
     ]
    }
   ],
   "source": [
    "def f1(*s,n1):\n",
    "    for s1 in s:\n",
    "        print(s1)\n",
    "    print(n1)\n",
    "f1(\"A\",\"B\", n1=10)\n",
    "\n",
    "# f1(\"A\",\"B\",10)  ===> Invalid\n",
    "#TypeError: f1() missing 1 required keyword-only arguments:'n1'\n",
    "\n"
   ]
  },
  {
   "attachments": {},
   "cell_type": "markdown",
   "metadata": {},
   "source": [
    "<b><u>Note:</u></b> \n",
    "\n",
    "- we can declear key word varible length arguments also.\n",
    "for this we have to use **.\n",
    "- def f1(**n):\n",
    "- we can call this function by passing any number of keyword arguments.\n",
    "- internally these keyword arguments will be stored inside a dictionary.\n"
   ]
  },
  {
   "cell_type": "code",
   "execution_count": 67,
   "metadata": {},
   "outputs": [
    {
     "name": "stdout",
     "output_type": "stream",
     "text": [
      "n1 = 10\n",
      "n2 = 20\n",
      "n3 = 30\n",
      "rno = 100\n",
      "name = shubham\n",
      "marks = 80\n",
      "subject = Python\n"
     ]
    }
   ],
   "source": [
    "def display(**kwargs):\n",
    "    for k,v in kwargs.items():\n",
    "        print(k,\"=\",v)\n",
    "display(n1=10,n2=20,n3=30)\n",
    "display(rno=100,name=\"shubham\",marks=80,subject=\"Python\")"
   ]
  },
  {
   "attachments": {},
   "cell_type": "markdown",
   "metadata": {},
   "source": [
    "<u><b>case study</b></u>\n",
    "\n",
    "def f(arg1,arg2,arg3=4,arg4=8):\n",
    "        print(arg1,arg2,arg3,arg4)\n",
    "\n",
    "1. f(3,2)====>  3   2   4   8\n",
    "\n",
    "2. f(10,20,30,40) ====> 10   20   30   40\n",
    "\n",
    "3. f(25,50,arg4=100)  ====> 25 50 4 100\n",
    "\n",
    "4. f(arg4=2,arg1=3,arg2=4)  ====> 3   4   4  2\n",
    "\n",
    "5. f() ====> invalid\n",
    " - TypeError: f() missing 2 required positional arguments:'arg1' and 'arg2'\n",
    "\n",
    "6. f(arg4=2,arg1=3,arg2=4) ====> invalid\n",
    "-  SyntaxError: positional argument follows keyword argument  [After keyword arguments we should not take positional arguments]\n",
    "\n",
    "7. f(4,5,arg2=6) ====>invalid\n",
    "- TypeError: f() got multiple values for argument 'arg2'\n",
    "\n",
    "8. f(4,5,arg=3=5,arg=6)  ====>Invalid\n",
    "-  TypeError: f() got multiple values for argument 'arg2'\n",
    "\n",
    "<b><u>Note:-</u></b> Function vs Module Vs Library\n",
    "\n",
    "1. A group of line with some name is called Function\n",
    "2. A group of Function saved to a File, is called Module.\n",
    "3. A group of Modules is nothin but Libary.\n",
    "\n",
    "<img src=\"Function.PNG\" alt=\"Function Vs Module Vs Library\">\n"
   ]
  },
  {
   "attachments": {},
   "cell_type": "markdown",
   "metadata": {},
   "source": []
  }
 ],
 "metadata": {
  "kernelspec": {
   "display_name": "base",
   "language": "python",
   "name": "python3"
  },
  "language_info": {
   "codemirror_mode": {
    "name": "ipython",
    "version": 3
   },
   "file_extension": ".py",
   "mimetype": "text/x-python",
   "name": "python",
   "nbconvert_exporter": "python",
   "pygments_lexer": "ipython3",
   "version": "3.10.9"
  },
  "orig_nbformat": 4
 },
 "nbformat": 4,
 "nbformat_minor": 2
}
