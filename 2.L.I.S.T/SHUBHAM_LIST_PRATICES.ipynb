{
 "cells": [
  {
   "attachments": {},
   "cell_type": "markdown",
   "metadata": {},
   "source": [
    "# __LIST DATA STRUCTURE__\n",
    "- if we want to represent a group of individual objects as a single entity where insertion order preserved and duplicates are allowed, then we should go to for list\n",
    "- insertion order preserved\n",
    "- duplicates object are allowded.\n",
    "- hetrogenous object are allowded.\n",
    "- list is dyanamic beacause based on our requirement we can increase the size and decrease the size .\n",
    "- in list the element will be placed within square brackets and with comma sepreate.\n",
    "\n",
    "- we can differentiate duplicate element by using index and we can perserve insertion order by using index. hence index will play very importat role.\n",
    "- python support both positive and negative indexed . +Ve index means from left to right where as negative index menas right to left.\n",
    "  [10,\"A\",\"B\",20,30,10]\n",
    "- List object are mutable .i.e we can change the content \n",
    "\n",
    "# Creation of List Objects.\n",
    "###### 1. We can create empty list object as follows.\n"
   ]
  },
  {
   "cell_type": "code",
   "execution_count": 14,
   "metadata": {},
   "outputs": [
    {
     "name": "stdout",
     "output_type": "stream",
     "text": [
      "[]\n",
      "<class 'list'>\n"
     ]
    }
   ],
   "source": [
    "lis=[]\n",
    "print(lis)\n",
    "print(type(lis))\n",
    "\n"
   ]
  },
  {
   "attachments": {},
   "cell_type": "markdown",
   "metadata": {},
   "source": [
    "##### 2. if we know element already then can create list as follows"
   ]
  },
  {
   "cell_type": "code",
   "execution_count": 15,
   "metadata": {},
   "outputs": [
    {
     "name": "stdout",
     "output_type": "stream",
     "text": [
      "[10, 20, 30, 40]\n",
      "<class 'list'>\n"
     ]
    }
   ],
   "source": [
    "lit=[10,20,30,40]\n",
    "print(lit)\n",
    "print(type(lit))"
   ]
  },
  {
   "attachments": {},
   "cell_type": "markdown",
   "metadata": {},
   "source": [
    "##### 3. with Dyanamic output"
   ]
  },
  {
   "cell_type": "code",
   "execution_count": 6,
   "metadata": {},
   "outputs": [
    {
     "name": "stdout",
     "output_type": "stream",
     "text": [
      "[10, 20, 30]\n",
      "<class 'list'>\n"
     ]
    }
   ],
   "source": [
    "li =eval(input(\"Enter List:\"))\n",
    "print(li)\n",
    "print(type(li))"
   ]
  },
  {
   "attachments": {},
   "cell_type": "markdown",
   "metadata": {},
   "source": [
    "##### 4. With list() function:"
   ]
  },
  {
   "cell_type": "code",
   "execution_count": 7,
   "metadata": {},
   "outputs": [
    {
     "name": "stdout",
     "output_type": "stream",
     "text": [
      "['S', 'h', 'u', 'b', 'h', 'a', 'm']\n"
     ]
    }
   ],
   "source": [
    "s = \"Shubham\"\n",
    "l = list(s)\n",
    "print(l)\n"
   ]
  },
  {
   "cell_type": "code",
   "execution_count": 4,
   "metadata": {},
   "outputs": [
    {
     "name": "stdout",
     "output_type": "stream",
     "text": [
      "[0, 2, 4, 6, 8]\n",
      "<class 'list'>\n"
     ]
    }
   ],
   "source": [
    "l =list(range(0,10,2))\n",
    "print(l)\n",
    "print(type(l))"
   ]
  },
  {
   "attachments": {},
   "cell_type": "markdown",
   "metadata": {},
   "source": [
    "##### 5. With Split() Function:\n",
    "\n"
   ]
  },
  {
   "cell_type": "code",
   "execution_count": 5,
   "metadata": {},
   "outputs": [
    {
     "name": "stdout",
     "output_type": "stream",
     "text": [
      "['Learning', 'Python', 'is', 'very', 'very', 'Easy', '!!!']\n",
      "<class 'list'>\n"
     ]
    }
   ],
   "source": [
    "s=\" Learning Python is very very Easy !!!\"\n",
    "l=s.split()\n",
    "print(l)\n",
    "print(type(l))"
   ]
  },
  {
   "attachments": {},
   "cell_type": "markdown",
   "metadata": {},
   "source": [
    "##### Note: \n",
    "Sometimes we can take list inside another list,such type of lists are called nested lists.\n",
    "[10,20,[30,40]]"
   ]
  },
  {
   "attachments": {},
   "cell_type": "markdown",
   "metadata": {},
   "source": [
    "# Accessing elements of List:\n",
    "\n",
    "we can Access element of the list either by using index or by using slice operator(:)\n",
    "\n",
    "1. By using Index:\n",
    "List Follows zero based index. i.e Index of First element is zero.\n",
    " List supports Both +ve and -ve indexes.\n",
    " +ve index meant for Left to Right\n",
    " -ve index meant for Right to Left\n",
    "\n",
    " list = [10,20,30,40]\n",
    " print(list[0]) ===> 10\n",
    " print(list[-1])===> 40\n",
    " print(list[10])===> indexError: list index out of range\n",
    "\n",
    " 2. By Using Slice Operator:\n",
    "\n",
    "   ##### Syntax:\n",
    "\n",
    "   list = list[start:stop:step]\n",
    "\n",
    "   start ==> it indicates the index where slice has to start default value is zero\n",
    "\n",
    "   stop ==> it indicates the index where slice has to end default value is max allowed index of list i.e length of index\n",
    "\n",
    "   step ==> increment value\n",
    "            default value is 1"
   ]
  },
  {
   "cell_type": "code",
   "execution_count": 1,
   "metadata": {},
   "outputs": [
    {
     "name": "stdout",
     "output_type": "stream",
     "text": [
      "[3, 5, 7]\n",
      "[5, 7, 9]\n",
      "[4, 5, 6, 7]\n",
      "[9, 7, 5]\n",
      "[5, 6, 7, 8, 9, 10]\n"
     ]
    }
   ],
   "source": [
    "n =[1,2,3,4,5,6,7,8,9,10]\n",
    "print(n[2:7:2])\n",
    "print(n[4::2])\n",
    "print(n[3:7])\n",
    "print(n[8:2:-2])\n",
    "print(n[4:100])"
   ]
  },
  {
   "attachments": {},
   "cell_type": "markdown",
   "metadata": {},
   "source": [
    "# List Vs Mutability:\n",
    "once we creates a List object, we can modify its content . hence List object are mutable"
   ]
  },
  {
   "cell_type": "code",
   "execution_count": 3,
   "metadata": {},
   "outputs": [
    {
     "name": "stdout",
     "output_type": "stream",
     "text": [
      "[10, 20, 30, 40]\n",
      "[10, 777, 30, 40]\n"
     ]
    }
   ],
   "source": [
    "n =[10,20,30,40]\n",
    "print(n)\n",
    "n[1]=777\n",
    "print(n)"
   ]
  },
  {
   "attachments": {},
   "cell_type": "markdown",
   "metadata": {},
   "source": [
    "# Traversing the elements of List:\n",
    "\n",
    "the sequential access of each elements in the list is called traversal\n",
    "1. By using while loop:"
   ]
  },
  {
   "cell_type": "code",
   "execution_count": 4,
   "metadata": {},
   "outputs": [
    {
     "name": "stdout",
     "output_type": "stream",
     "text": [
      "0\n",
      "1\n",
      "2\n",
      "3\n",
      "4\n",
      "5\n",
      "6\n",
      "7\n",
      "8\n",
      "9\n",
      "10\n"
     ]
    }
   ],
   "source": [
    "n =[0,1,2,3,4,5,6,7,8,9,10]\n",
    "i = 0\n",
    "while i<len(n):\n",
    "    print(n[i])\n",
    "    i =i+1"
   ]
  },
  {
   "attachments": {},
   "cell_type": "markdown",
   "metadata": {},
   "source": [
    "2. By using For loop:\n"
   ]
  },
  {
   "cell_type": "code",
   "execution_count": 5,
   "metadata": {},
   "outputs": [
    {
     "name": "stdout",
     "output_type": "stream",
     "text": [
      "0\n",
      "1\n",
      "2\n",
      "3\n",
      "4\n",
      "5\n",
      "6\n",
      "7\n",
      "8\n",
      "9\n",
      "10\n"
     ]
    }
   ],
   "source": [
    "n =[0,1,2,3,4,5,6,7,8,9,10]\n",
    "for n1 in n:\n",
    "    print(n1)"
   ]
  },
  {
   "attachments": {},
   "cell_type": "markdown",
   "metadata": {},
   "source": [
    "3. To display only even numbers:"
   ]
  },
  {
   "cell_type": "code",
   "execution_count": 6,
   "metadata": {},
   "outputs": [
    {
     "name": "stdout",
     "output_type": "stream",
     "text": [
      "0\n",
      "2\n",
      "4\n",
      "6\n",
      "8\n",
      "10\n"
     ]
    }
   ],
   "source": [
    "n =[0,1,2,3,4,5,6,7,8,9,10]\n",
    "for n1 in n:\n",
    "    if n1%2==0:\n",
    "        print(n1)\n"
   ]
  },
  {
   "attachments": {},
   "cell_type": "markdown",
   "metadata": {},
   "source": [
    "4. To Display element by index wise:\n"
   ]
  },
  {
   "cell_type": "code",
   "execution_count": 8,
   "metadata": {},
   "outputs": [
    {
     "name": "stdout",
     "output_type": "stream",
     "text": [
      "A is available at positive index: 0 and at negative index: -3\n",
      "B is available at positive index: 1 and at negative index: -2\n",
      "C is available at positive index: 2 and at negative index: -1\n"
     ]
    }
   ],
   "source": [
    "l =[\"A\",\"B\",\"C\"]\n",
    "x =len(l)\n",
    "for i in range(x):\n",
    "    print(l[i],\"is available at positive index:\",i,\"and at negative index:\",i-x)"
   ]
  },
  {
   "attachments": {},
   "cell_type": "markdown",
   "metadata": {},
   "source": [
    "# important functions of List:\n",
    "\n",
    "#### To get information About List:\n",
    "\n",
    "1. len():\n",
    "     return the number of elements present in the list"
   ]
  },
  {
   "cell_type": "code",
   "execution_count": 18,
   "metadata": {},
   "outputs": [
    {
     "name": "stdout",
     "output_type": "stream",
     "text": [
      "4\n"
     ]
    }
   ],
   "source": [
    "n =[10,20,30,40]\n",
    "print(len(n)) "
   ]
  },
  {
   "attachments": {},
   "cell_type": "markdown",
   "metadata": {},
   "source": [
    "2. count():\n",
    "     it returns the number of occurrences of specified item in the list"
   ]
  },
  {
   "cell_type": "code",
   "execution_count": 19,
   "metadata": {},
   "outputs": [
    {
     "name": "stdout",
     "output_type": "stream",
     "text": [
      "1\n",
      "4\n",
      "2\n",
      "0\n"
     ]
    }
   ],
   "source": [
    "n =[1,2,2,2,2,3,3]\n",
    "print(n.count(1))\n",
    "print(n.count(2))\n",
    "print(n.count(3))\n",
    "print(n.count(4))"
   ]
  },
  {
   "attachments": {},
   "cell_type": "markdown",
   "metadata": {},
   "source": [
    "3. index() function\n",
    "  return the index of first occuerence of the specified item ."
   ]
  },
  {
   "cell_type": "code",
   "execution_count": 20,
   "metadata": {},
   "outputs": [
    {
     "name": "stdout",
     "output_type": "stream",
     "text": [
      "0\n",
      "1\n",
      "5\n"
     ]
    },
    {
     "ename": "ValueError",
     "evalue": "4 is not in list",
     "output_type": "error",
     "traceback": [
      "\u001b[1;31m---------------------------------------------------------------------------\u001b[0m",
      "\u001b[1;31mValueError\u001b[0m                                Traceback (most recent call last)",
      "Cell \u001b[1;32mIn[20], line 5\u001b[0m\n\u001b[0;32m      3\u001b[0m \u001b[39mprint\u001b[39m(n\u001b[39m.\u001b[39mindex(\u001b[39m2\u001b[39m))\n\u001b[0;32m      4\u001b[0m \u001b[39mprint\u001b[39m(n\u001b[39m.\u001b[39mindex(\u001b[39m3\u001b[39m))\n\u001b[1;32m----> 5\u001b[0m \u001b[39mprint\u001b[39m(n\u001b[39m.\u001b[39;49mindex(\u001b[39m4\u001b[39;49m))\n",
      "\u001b[1;31mValueError\u001b[0m: 4 is not in list"
     ]
    }
   ],
   "source": [
    "n =[1,2,2,2,2,3,3]\n",
    "print(n.index(1))\n",
    "print(n.index(2))\n",
    "print(n.index(3))\n",
    "print(n.index(4))"
   ]
  },
  {
   "attachments": {},
   "cell_type": "markdown",
   "metadata": {},
   "source": [
    "##### Note:\n",
    "if the specified element not present in the list then we will get ValueError. Hence before index() method we have to check whether item present in the list or not by using in operator."
   ]
  },
  {
   "cell_type": "code",
   "execution_count": 21,
   "metadata": {},
   "outputs": [
    {
     "name": "stdout",
     "output_type": "stream",
     "text": [
      "False\n"
     ]
    }
   ],
   "source": [
    "print(4 in n)"
   ]
  },
  {
   "attachments": {},
   "cell_type": "markdown",
   "metadata": {},
   "source": [
    "# II. Manipulating elements of List:\n",
    "\n",
    "1. append() function:\n",
    "we can use append() function to add item at the end of the list.\n"
   ]
  },
  {
   "cell_type": "code",
   "execution_count": 22,
   "metadata": {},
   "outputs": [
    {
     "name": "stdout",
     "output_type": "stream",
     "text": [
      "['A', 'B', 'c']\n"
     ]
    }
   ],
   "source": [
    "list=[]\n",
    "list.append(\"A\")\n",
    "list.append(\"B\")\n",
    "list.append(\"c\")\n",
    "print(list)"
   ]
  },
  {
   "cell_type": "code",
   "execution_count": 23,
   "metadata": {},
   "outputs": [
    {
     "name": "stdout",
     "output_type": "stream",
     "text": [
      "[0, 10, 20, 30, 40, 50, 60, 70, 80, 90, 100]\n"
     ]
    }
   ],
   "source": [
    "# To add all element to list upto 100 which are divisible by 10\n",
    "\n",
    "list =[]\n",
    "for i in range(101):\n",
    "    if i%10 ==0:\n",
    "        list.append(i)\n",
    "print(list)"
   ]
  },
  {
   "attachments": {},
   "cell_type": "markdown",
   "metadata": {},
   "source": [
    "2. insert() function:\n",
    "to insert item at specified index position"
   ]
  },
  {
   "cell_type": "code",
   "execution_count": 24,
   "metadata": {},
   "outputs": [
    {
     "name": "stdout",
     "output_type": "stream",
     "text": [
      "[1, 888, 2, 3, 4, 5]\n"
     ]
    }
   ],
   "source": [
    "n =[1,2,3,4,5]\n",
    "n.insert(1,888)\n",
    "print(n)"
   ]
  },
  {
   "cell_type": "code",
   "execution_count": 25,
   "metadata": {},
   "outputs": [
    {
     "name": "stdout",
     "output_type": "stream",
     "text": [
      "[999, 1, 2, 3, 4, 5, 777]\n"
     ]
    }
   ],
   "source": [
    "n=[1,2,3,4,5]\n",
    "n.insert(10,777)\n",
    "n.insert(-10,999)\n",
    "print(n)"
   ]
  },
  {
   "attachments": {},
   "cell_type": "markdown",
   "metadata": {},
   "source": [
    "##### Note:\n",
    "if the specified index is greater than max index then element will be inserted at last position. if the specified index is smaller than min index then element will be inserted at first posiotion "
   ]
  },
  {
   "attachments": {},
   "cell_type": "markdown",
   "metadata": {},
   "source": [
    "# Difference between append() and insert()\n",
    "1. Append():\n",
    "      in List when we add any element it will come in last i.e it will be last element\n",
    "\n",
    "2. insert():\n",
    "       in list we can insert any element in particular index number "
   ]
  },
  {
   "attachments": {},
   "cell_type": "markdown",
   "metadata": {},
   "source": [
    "3. extend() Function:\n",
    "to add all items of one list to another list \n",
    "\n",
    "l1.extend(l2)\n",
    "    all items present in l2 will be added to l1 "
   ]
  },
  {
   "cell_type": "code",
   "execution_count": 26,
   "metadata": {},
   "outputs": [
    {
     "name": "stdout",
     "output_type": "stream",
     "text": [
      "['Chicken', 'Mutton', 'Fish', 'RC', 'KF', 'FO']\n"
     ]
    }
   ],
   "source": [
    "order1=[\"Chicken\",\"Mutton\",\"Fish\"]\n",
    "order2=[\"RC\",\"KF\",\"FO\"]\n",
    "order1.extend(order2)\n",
    "print(order1)"
   ]
  },
  {
   "cell_type": "code",
   "execution_count": 27,
   "metadata": {},
   "outputs": [
    {
     "name": "stdout",
     "output_type": "stream",
     "text": [
      "['Chicken', 'Mutton', 'Fish', 'M', 'u', 's', 'h', 'r', 'o', 'o', 'm']\n"
     ]
    }
   ],
   "source": [
    "order=[\"Chicken\",\"Mutton\",\"Fish\"]\n",
    "order.extend(\"Mushroom\")\n",
    "print(order)"
   ]
  },
  {
   "attachments": {},
   "cell_type": "markdown",
   "metadata": {},
   "source": [
    "4. remove() Function:\n",
    "\n",
    "we can use this function to remove specified item from the list. if the item present multiple times then only first occurrence will be removed."
   ]
  },
  {
   "cell_type": "code",
   "execution_count": 28,
   "metadata": {},
   "outputs": [
    {
     "name": "stdout",
     "output_type": "stream",
     "text": [
      "[20, 10, 40]\n"
     ]
    }
   ],
   "source": [
    "n =[10,20,10,40]\n",
    "n.remove(10)\n",
    "print(n)"
   ]
  },
  {
   "cell_type": "code",
   "execution_count": 30,
   "metadata": {},
   "outputs": [
    {
     "ename": "ValueError",
     "evalue": "list.remove(x): x not in list",
     "output_type": "error",
     "traceback": [
      "\u001b[1;31m---------------------------------------------------------------------------\u001b[0m",
      "\u001b[1;31mValueError\u001b[0m                                Traceback (most recent call last)",
      "Cell \u001b[1;32mIn[30], line 2\u001b[0m\n\u001b[0;32m      1\u001b[0m n \u001b[39m=\u001b[39m[\u001b[39m10\u001b[39m,\u001b[39m20\u001b[39m,\u001b[39m10\u001b[39m,\u001b[39m40\u001b[39m]\n\u001b[1;32m----> 2\u001b[0m n\u001b[39m.\u001b[39;49mremove(\u001b[39m50\u001b[39;49m)\n\u001b[0;32m      3\u001b[0m \u001b[39mprint\u001b[39m(n)\n",
      "\u001b[1;31mValueError\u001b[0m: list.remove(x): x not in list"
     ]
    }
   ],
   "source": [
    "n =[10,20,10,40]\n",
    "n.remove(50)\n",
    "print(n)"
   ]
  },
  {
   "attachments": {},
   "cell_type": "markdown",
   "metadata": {},
   "source": [
    "##### Note: \n",
    "    Hence before using remove() method first we have to check specified element present in the list or not by using opertor.\n",
    "\n",
    "5. POP() Function.\n",
    "\n",
    "it removes and returns the last element of the list.\n",
    "this is ony function which manipulates list and return some elements."
   ]
  },
  {
   "cell_type": "code",
   "execution_count": 32,
   "metadata": {},
   "outputs": [
    {
     "name": "stdout",
     "output_type": "stream",
     "text": [
      "50\n",
      "40\n",
      "[10, 20, 30]\n"
     ]
    }
   ],
   "source": [
    "n=[10,20,30,40,50]\n",
    "print(n.pop())\n",
    "print(n.pop())\n",
    "print(n)"
   ]
  },
  {
   "attachments": {},
   "cell_type": "markdown",
   "metadata": {},
   "source": [
    "if the list is empty then pop() function raise indexError"
   ]
  },
  {
   "cell_type": "code",
   "execution_count": 34,
   "metadata": {},
   "outputs": [
    {
     "ename": "IndexError",
     "evalue": "pop from empty list",
     "output_type": "error",
     "traceback": [
      "\u001b[1;31m---------------------------------------------------------------------------\u001b[0m",
      "\u001b[1;31mIndexError\u001b[0m                                Traceback (most recent call last)",
      "Cell \u001b[1;32mIn[34], line 2\u001b[0m\n\u001b[0;32m      1\u001b[0m n\u001b[39m=\u001b[39m[]\n\u001b[1;32m----> 2\u001b[0m \u001b[39mprint\u001b[39m(n\u001b[39m.\u001b[39;49mpop())\n",
      "\u001b[1;31mIndexError\u001b[0m: pop from empty list"
     ]
    }
   ],
   "source": [
    "n=[]\n",
    "print(n.pop())"
   ]
  },
  {
   "attachments": {},
   "cell_type": "markdown",
   "metadata": {},
   "source": [
    "##### NOTE:\n",
    "\n",
    "1. pop() is the only fuction which manipulates the list and return some value\n",
    "2. in genral we can use append() and pop() function to implement stack  data structure by using list, which follows LIFO(last in First out) order.\n",
    "\n",
    "in general we can use pop() function to remove last element of the list.but we can use to remove elements based on index.\n",
    "\n",
    "n.pop(index) ====> To remove and return elements present at specified index.\n",
    "n.pop        ====> to remove and return last element of the list\n",
    "\n",
    "\n",
    "\n",
    "\n"
   ]
  },
  {
   "cell_type": "code",
   "execution_count": 35,
   "metadata": {},
   "outputs": [
    {
     "name": "stdout",
     "output_type": "stream",
     "text": [
      "60\n"
     ]
    }
   ],
   "source": [
    "n =[10,20,30,40,50,60]\n",
    "print(n.pop())\n"
   ]
  },
  {
   "cell_type": "code",
   "execution_count": 36,
   "metadata": {},
   "outputs": [
    {
     "name": "stdout",
     "output_type": "stream",
     "text": [
      "20\n"
     ]
    }
   ],
   "source": [
    "print(n.pop(1))"
   ]
  },
  {
   "cell_type": "code",
   "execution_count": 37,
   "metadata": {},
   "outputs": [
    {
     "ename": "IndexError",
     "evalue": "pop index out of range",
     "output_type": "error",
     "traceback": [
      "\u001b[1;31m---------------------------------------------------------------------------\u001b[0m",
      "\u001b[1;31mIndexError\u001b[0m                                Traceback (most recent call last)",
      "Cell \u001b[1;32mIn[37], line 1\u001b[0m\n\u001b[1;32m----> 1\u001b[0m \u001b[39mprint\u001b[39m(n\u001b[39m.\u001b[39;49mpop(\u001b[39m10\u001b[39;49m))\n",
      "\u001b[1;31mIndexError\u001b[0m: pop index out of range"
     ]
    }
   ],
   "source": [
    "print(n.pop(10))"
   ]
  },
  {
   "attachments": {},
   "cell_type": "markdown",
   "metadata": {},
   "source": [
    "### Difference between remove() and pop()\n",
    "\n",
    "##### Remove :\n",
    "1. WE can use to remove special element from the list\n",
    "2. it can't return any value\n",
    "3. if special element not available then we get VALUE ERROR.\n",
    "\n",
    "##### POP:\n",
    "1. we can use to remove last element from The list\n",
    "2. it return remove element\n",
    "3. if list is empty then we get Error\n",
    "\n",
    "\n",
    "#### NOTE:\n",
    "List object are dyanamic. i.e based on our Requirement we can increase and decrease the size.\n",
    "\n",
    "append(), insert(), extend() =====> For increase the size / growable nature\n",
    "remove(), pop() =====> for decrease the size/ shrinking nature\n",
    "\n",
    "# lll. Ordering elements of LIst:\n",
    "\n",
    "1. reverse():\n",
    "we can use to reverse() order of elements of list.\n",
    "\n",
    "  "
   ]
  },
  {
   "cell_type": "code",
   "execution_count": 38,
   "metadata": {},
   "outputs": [
    {
     "name": "stdout",
     "output_type": "stream",
     "text": [
      "[40, 30, 20, 10]\n"
     ]
    }
   ],
   "source": [
    "n=[10,20,30,40]\n",
    "n.reverse()\n",
    "print(n)\n"
   ]
  },
  {
   "attachments": {},
   "cell_type": "markdown",
   "metadata": {},
   "source": [
    "2. Sort() Function:\n",
    "in List by default insertion order is preserved. if want to sort the elements of list according to default natural sorting order then we should go for sort() method.\n",
    "\n",
    "\n",
    "For number ===> default natural sorting order is ascending Order\n",
    "For String ===> Default natural sorting order is alphabetical Order\n"
   ]
  },
  {
   "cell_type": "code",
   "execution_count": 39,
   "metadata": {},
   "outputs": [
    {
     "name": "stdout",
     "output_type": "stream",
     "text": [
      "[0, 5, 10, 15, 20]\n"
     ]
    }
   ],
   "source": [
    "n =[20,5,15,10,0]\n",
    "n.sort()\n",
    "print(n)"
   ]
  },
  {
   "cell_type": "code",
   "execution_count": 41,
   "metadata": {},
   "outputs": [
    {
     "name": "stdout",
     "output_type": "stream",
     "text": [
      "['Apple', 'Banana', 'Cat', 'Dog']\n"
     ]
    }
   ],
   "source": [
    "s=[\"Dog\",\"Banana\",\"Cat\",\"Apple\"]\n",
    "s.sort() \n",
    "print(s)"
   ]
  },
  {
   "attachments": {},
   "cell_type": "markdown",
   "metadata": {},
   "source": [
    "- NOTE:\n",
    "To use sort() function, compulsory list should contain only homogeneous elements. Otherwise we will get TypeError"
   ]
  },
  {
   "cell_type": "code",
   "execution_count": 42,
   "metadata": {},
   "outputs": [
    {
     "ename": "TypeError",
     "evalue": "'<' not supported between instances of 'str' and 'int'",
     "output_type": "error",
     "traceback": [
      "\u001b[1;31m---------------------------------------------------------------------------\u001b[0m",
      "\u001b[1;31mTypeError\u001b[0m                                 Traceback (most recent call last)",
      "Cell \u001b[1;32mIn[42], line 2\u001b[0m\n\u001b[0;32m      1\u001b[0m n \u001b[39m=\u001b[39m[\u001b[39m20\u001b[39m,\u001b[39m10\u001b[39m,\u001b[39m\"\u001b[39m\u001b[39mA\u001b[39m\u001b[39m\"\u001b[39m,\u001b[39m\"\u001b[39m\u001b[39mB\u001b[39m\u001b[39m\"\u001b[39m]\n\u001b[1;32m----> 2\u001b[0m n\u001b[39m.\u001b[39;49msort()\n\u001b[0;32m      3\u001b[0m \u001b[39mprint\u001b[39m(n)\n",
      "\u001b[1;31mTypeError\u001b[0m: '<' not supported between instances of 'str' and 'int'"
     ]
    }
   ],
   "source": [
    "n =[20,10,\"A\",\"B\"]\n",
    "n.sort()\n",
    "print(n)"
   ]
  },
  {
   "attachments": {},
   "cell_type": "markdown",
   "metadata": {},
   "source": [
    "- NOTE: In Python 2 if List contain both number and string then sort() function first sort numbers followed by strings"
   ]
  },
  {
   "cell_type": "code",
   "execution_count": 43,
   "metadata": {},
   "outputs": [
    {
     "ename": "TypeError",
     "evalue": "'<' not supported between instances of 'str' and 'int'",
     "output_type": "error",
     "traceback": [
      "\u001b[1;31m---------------------------------------------------------------------------\u001b[0m",
      "\u001b[1;31mTypeError\u001b[0m                                 Traceback (most recent call last)",
      "Cell \u001b[1;32mIn[43], line 2\u001b[0m\n\u001b[0;32m      1\u001b[0m n \u001b[39m=\u001b[39m[\u001b[39m20\u001b[39m,\u001b[39m\"\u001b[39m\u001b[39mB\u001b[39m\u001b[39m\"\u001b[39m,\u001b[39m10\u001b[39m,\u001b[39m\"\u001b[39m\u001b[39mA\u001b[39m\u001b[39m\"\u001b[39m]\n\u001b[1;32m----> 2\u001b[0m n\u001b[39m.\u001b[39;49msort()\n\u001b[0;32m      3\u001b[0m \u001b[39mprint\u001b[39m(n)\n",
      "\u001b[1;31mTypeError\u001b[0m: '<' not supported between instances of 'str' and 'int'"
     ]
    }
   ],
   "source": [
    "n =[20,\"B\",10,\"A\"]\n",
    "n.sort()\n",
    "print(n)"
   ]
  },
  {
   "attachments": {},
   "cell_type": "markdown",
   "metadata": {},
   "source": [
    "BUt Python 3 invalid\n",
    "\n",
    "# TO sort in reverse of default natural sorting order:\n",
    "\n",
    "we can sort according to reverse of default natural sorting order by using reverse=True argument."
   ]
  },
  {
   "cell_type": "code",
   "execution_count": 44,
   "metadata": {},
   "outputs": [
    {
     "name": "stdout",
     "output_type": "stream",
     "text": [
      "[10, 20, 30, 40]\n"
     ]
    }
   ],
   "source": [
    "n =[40,10,30,20]\n",
    "n.sort()\n",
    "print(n)"
   ]
  },
  {
   "cell_type": "code",
   "execution_count": 46,
   "metadata": {},
   "outputs": [
    {
     "name": "stdout",
     "output_type": "stream",
     "text": [
      "[40, 30, 20, 10]\n"
     ]
    }
   ],
   "source": [
    "n.sort(reverse=True)\n",
    "print(n)"
   ]
  },
  {
   "cell_type": "code",
   "execution_count": 47,
   "metadata": {},
   "outputs": [
    {
     "name": "stdout",
     "output_type": "stream",
     "text": [
      "[10, 20, 30, 40]\n"
     ]
    }
   ],
   "source": [
    "n.sort(reverse=False)\n",
    "print(n)"
   ]
  },
  {
   "attachments": {},
   "cell_type": "markdown",
   "metadata": {},
   "source": [
    "# Aliasing And Cloning of List object:\n",
    "\n",
    "The Process of giving another reference varible to the existing list is called aliasing"
   ]
  },
  {
   "cell_type": "code",
   "execution_count": 48,
   "metadata": {},
   "outputs": [
    {
     "name": "stdout",
     "output_type": "stream",
     "text": [
      "1351467288896\n",
      "1351467288896\n"
     ]
    }
   ],
   "source": [
    "x =[10,20,30,40]\n",
    "y=x\n",
    "print(id(x))\n",
    "print(id(y))"
   ]
  },
  {
   "attachments": {},
   "cell_type": "markdown",
   "metadata": {},
   "source": [
    "The Problem in this approach is by using one reference variable if we are chaninging content , then those change will be reflected to the other reference varible."
   ]
  },
  {
   "cell_type": "code",
   "execution_count": 49,
   "metadata": {},
   "outputs": [
    {
     "name": "stdout",
     "output_type": "stream",
     "text": [
      "[10, 777, 30, 40]\n"
     ]
    }
   ],
   "source": [
    "x =[10,20,30,40]\n",
    "y=x\n",
    "y[1]= 777\n",
    "print(x)"
   ]
  },
  {
   "attachments": {},
   "cell_type": "markdown",
   "metadata": {},
   "source": [
    "To Overcome this problem we should go for cloning.\n",
    "The Process of creating exactly duplicate independent object is called cloning\n",
    "\n",
    "we can implement cloning by using slice operator or by using copy() function.\n",
    "\n",
    "##### 1. BY using Slice Operator:\n"
   ]
  },
  {
   "cell_type": "code",
   "execution_count": 54,
   "metadata": {},
   "outputs": [
    {
     "name": "stdout",
     "output_type": "stream",
     "text": [
      "[10, 20, 30, 40, 50]\n",
      "[10, 777, 30, 40, 50]\n"
     ]
    }
   ],
   "source": [
    "x =[10,20,30,40,50]\n",
    "y=x[:]\n",
    "y[1]=777\n",
    "print(x)\n",
    "print(y)"
   ]
  },
  {
   "attachments": {},
   "cell_type": "markdown",
   "metadata": {},
   "source": [
    "2. By using Copy() Function:\n"
   ]
  },
  {
   "cell_type": "code",
   "execution_count": 55,
   "metadata": {},
   "outputs": [
    {
     "name": "stdout",
     "output_type": "stream",
     "text": [
      "[10, 20, 30, 40]\n",
      "[10, 777, 30, 40]\n"
     ]
    }
   ],
   "source": [
    "x=[10,20,30,40]\n",
    "y=x.copy()\n",
    "y[1]=777\n",
    "print(x)\n",
    "print(y)"
   ]
  },
  {
   "attachments": {},
   "cell_type": "markdown",
   "metadata": {},
   "source": [
    "# Difference Between = operator and copy() function\n",
    "\n",
    "= operator meant for aliasing\n",
    "copy() function meant for cloning \n",
    "\n",
    "# Using Mathmateical Operators for List Objects:\n",
    "we can Use + And * operators For List objects.\n",
    "\n",
    "1. Concatenation Operator(+)\n",
    "\n",
    "we can use + to concatenate 2 lists into a single list\n",
    "\n"
   ]
  },
  {
   "cell_type": "code",
   "execution_count": 56,
   "metadata": {},
   "outputs": [
    {
     "name": "stdout",
     "output_type": "stream",
     "text": [
      "[10, 20, 30, 40, 50, 60]\n"
     ]
    }
   ],
   "source": [
    "a =[10,20,30]\n",
    "b=[40,50,60]\n",
    "c=a+b\n",
    "print(c)"
   ]
  },
  {
   "attachments": {},
   "cell_type": "markdown",
   "metadata": {},
   "source": [
    "Note - To use + operator compulsory both arguments should be list objects, otherwise we "
   ]
  },
  {
   "cell_type": "code",
   "execution_count": 57,
   "metadata": {},
   "outputs": [
    {
     "ename": "TypeError",
     "evalue": "can only concatenate list (not \"int\") to list",
     "output_type": "error",
     "traceback": [
      "\u001b[1;31m---------------------------------------------------------------------------\u001b[0m",
      "\u001b[1;31mTypeError\u001b[0m                                 Traceback (most recent call last)",
      "Cell \u001b[1;32mIn[57], line 1\u001b[0m\n\u001b[1;32m----> 1\u001b[0m c \u001b[39m=\u001b[39m a \u001b[39m+\u001b[39;49m\u001b[39m40\u001b[39;49m\n",
      "\u001b[1;31mTypeError\u001b[0m: can only concatenate list (not \"int\") to list"
     ]
    }
   ],
   "source": [
    "c = a +40"
   ]
  },
  {
   "cell_type": "code",
   "execution_count": 58,
   "metadata": {},
   "outputs": [],
   "source": [
    "c = a +[40]"
   ]
  },
  {
   "attachments": {},
   "cell_type": "markdown",
   "metadata": {},
   "source": [
    "2. Repetition Operator(*):\n",
    "we can use repetition operator * to repet elements of lists specified number of times "
   ]
  },
  {
   "cell_type": "code",
   "execution_count": 59,
   "metadata": {},
   "outputs": [
    {
     "name": "stdout",
     "output_type": "stream",
     "text": [
      "[10, 20, 30, 10, 20, 30, 10, 20, 30]\n"
     ]
    }
   ],
   "source": [
    "x =[10,20,30]\n",
    "y=x*3\n",
    "print(y)"
   ]
  },
  {
   "attachments": {},
   "cell_type": "markdown",
   "metadata": {},
   "source": [
    "# Comparing List Objects\n",
    "we can use comparison operators for Lists object.\n"
   ]
  },
  {
   "cell_type": "code",
   "execution_count": 60,
   "metadata": {},
   "outputs": [
    {
     "name": "stdout",
     "output_type": "stream",
     "text": [
      "True\n",
      "False\n",
      "True\n"
     ]
    }
   ],
   "source": [
    "x =[\"Dog\",\"Cat\",\"Rat\"]\n",
    "y =[\"Dog\",\"Cat\",\"Rat\"]\n",
    "z =[\"DOG\",\"CAT\",\"RAT\"]\n",
    "\n",
    "print(x==y)\n",
    "print(x==z)\n",
    "print(x != z)"
   ]
  },
  {
   "attachments": {},
   "cell_type": "markdown",
   "metadata": {},
   "source": [
    "NOTE:\n",
    "whenever we are using comparison operator (==,!=) for list objects then the Following shoulb be considered\n",
    "1. The Number of Elements\n",
    "2. The Order of Elements\n",
    "3. The Content Of elements(case sensitive)\n",
    "\n",
    "Note: when ever we are using relational operators(<,<=,>,>=) between List objects, only first elements comparision will be performed."
   ]
  },
  {
   "cell_type": "code",
   "execution_count": 61,
   "metadata": {},
   "outputs": [
    {
     "name": "stdout",
     "output_type": "stream",
     "text": [
      "False\n",
      "False\n",
      "True\n",
      "True\n"
     ]
    }
   ],
   "source": [
    "x =[\"Dog\",\"Cat\",\"Rat\"]\n",
    "y =[\"Rat\",\"Cat\",\"Dog\"]\n",
    "print(x>y)\n",
    "print(x>=y)\n",
    "print(x<y)\n",
    "print(x<=y)"
   ]
  },
  {
   "attachments": {},
   "cell_type": "markdown",
   "metadata": {},
   "source": [
    "### Membership operators:\n",
    "\n",
    "we can check whether element is a member of the list or not by using membership operators:\n",
    "\n",
    "in operator\n",
    "not in operator\n"
   ]
  },
  {
   "cell_type": "code",
   "execution_count": 62,
   "metadata": {},
   "outputs": [
    {
     "name": "stdout",
     "output_type": "stream",
     "text": [
      "True\n",
      "False\n",
      "False\n",
      "True\n"
     ]
    }
   ],
   "source": [
    " n =[10,20,30,40]\n",
    "print(10 in n)\n",
    "print(10 not in n)\n",
    "print(50 in n)\n",
    "print(50 not in n)"
   ]
  },
  {
   "attachments": {},
   "cell_type": "markdown",
   "metadata": {},
   "source": [
    "#### Clear() Function.\n",
    "\n",
    "we can use clear() Funcion to remove all elements of List."
   ]
  },
  {
   "cell_type": "code",
   "execution_count": 65,
   "metadata": {},
   "outputs": [
    {
     "name": "stdout",
     "output_type": "stream",
     "text": [
      "[10, 20, 30, 40]\n",
      "[]\n"
     ]
    }
   ],
   "source": [
    "n =[10,20,30,40]\n",
    "print(n)\n",
    "n.clear()\n",
    "print(n)"
   ]
  },
  {
   "attachments": {},
   "cell_type": "markdown",
   "metadata": {},
   "source": [
    "## Nested List:\n",
    "sometimes we can take one list inside another list. such type of lists are called nested lists."
   ]
  },
  {
   "cell_type": "code",
   "execution_count": 68,
   "metadata": {},
   "outputs": [
    {
     "name": "stdout",
     "output_type": "stream",
     "text": [
      "[10, 20, [30, 40]]\n",
      "10\n",
      "[30, 40]\n",
      "30\n",
      "40\n"
     ]
    }
   ],
   "source": [
    "n =[10,20,[30,40]]\n",
    "print(n)\n",
    "print(n[0])\n",
    "print(n[2])\n",
    "print(n[2][0])\n",
    "print(n[2][1])"
   ]
  },
  {
   "attachments": {},
   "cell_type": "markdown",
   "metadata": {},
   "source": [
    "NOTE - we can access nested list elements by using index just like accessing multi dimensional array elements.\n",
    "\n",
    "### Nested List As Matrix:\n",
    "in python we can represent matrix by using nested Lists.\n",
    "\n"
   ]
  },
  {
   "cell_type": "code",
   "execution_count": 1,
   "metadata": {},
   "outputs": [
    {
     "name": "stdout",
     "output_type": "stream",
     "text": [
      "[[10, 20, 30], [40, 50, 60], [70, 80, 90]]\n",
      "Element By Rows wise:\n",
      "[10, 20, 30]\n",
      "[40, 50, 60]\n",
      "[70, 80, 90]\n"
     ]
    }
   ],
   "source": [
    "n =[[10,20,30],[40,50,60],[70,80,90]]\n",
    "print(n)\n",
    "print(\"Element By Rows wise:\")\n",
    "for r in n:\n",
    "    print(r)"
   ]
  },
  {
   "cell_type": "code",
   "execution_count": 3,
   "metadata": {},
   "outputs": [
    {
     "name": "stdout",
     "output_type": "stream",
     "text": [
      "Element by Matrix style\n",
      "10 20 30 \n",
      "40 50 60 \n",
      "70 80 90 \n"
     ]
    }
   ],
   "source": [
    "print(\"Element by Matrix style\")\n",
    "for i in range(len(n)):\n",
    "    for j in range(len(n[i])):\n",
    "        print(n[i][j],end=' ')\n",
    "    print()  "
   ]
  },
  {
   "attachments": {},
   "cell_type": "markdown",
   "metadata": {},
   "source": [
    "# List Comprehensions:\n",
    "\n",
    "it is very esy and compact way of creating list objects from any iterable from any iterable objects(like list,tuples,dictionary,range etc) based on some condition.\n",
    "\n",
    "Syntax\n",
    "list =[expression for item in list if condition]"
   ]
  },
  {
   "cell_type": "code",
   "execution_count": 4,
   "metadata": {},
   "outputs": [
    {
     "name": "stdout",
     "output_type": "stream",
     "text": [
      "[1, 4, 9, 16, 25, 36, 49, 64, 81, 100]\n",
      "[2, 4, 8, 16, 32]\n",
      "[4, 16, 36, 64, 100]\n"
     ]
    }
   ],
   "source": [
    "s=[x*x for x in range(1,11)]\n",
    "print(s)\n",
    "v=[2**x for x in range(1,6)]\n",
    "print(v)\n",
    "m=[x for x in s if x%2==0]\n",
    "print(m)"
   ]
  },
  {
   "cell_type": "code",
   "execution_count": 5,
   "metadata": {},
   "outputs": [
    {
     "name": "stdout",
     "output_type": "stream",
     "text": [
      "['B', 'N', 'V', 'C']\n"
     ]
    }
   ],
   "source": [
    "words =[\"Balaish\",\"Nag\",\"Venkatesh\",\"Chiranjeevi\"]\n",
    "l =[w[0] for w in words]\n",
    "print(l)"
   ]
  },
  {
   "cell_type": "code",
   "execution_count": 9,
   "metadata": {},
   "outputs": [
    {
     "name": "stdout",
     "output_type": "stream",
     "text": [
      "[10, 20]\n",
      "[30, 40]\n"
     ]
    }
   ],
   "source": [
    "num1 =[10,20,30,40]\n",
    "num2 =[30,40,50,60]\n",
    "num3 =[i for i in num1 if i not in num2]\n",
    "print(num3)\n",
    "\n",
    "#common elements present in num1 and num2\n",
    "num4=[i for i in num1 if i in num2]\n",
    "print(num4)"
   ]
  },
  {
   "cell_type": "code",
   "execution_count": 13,
   "metadata": {},
   "outputs": [
    {
     "name": "stdout",
     "output_type": "stream",
     "text": [
      "['the', 'quick', 'brown', 'for', 'jumps', 'over', 'the', 'lazy', 'dog']\n",
      "[['THE', 3], ['QUICK', 5], ['BROWN', 5], ['FOR', 3], ['JUMPS', 5], ['OVER', 4], ['THE', 3], ['LAZY', 4], ['DOG', 3]]\n"
     ]
    }
   ],
   "source": [
    "words =\"the quick brown for jumps over the lazy dog\".split()\n",
    "print(words)\n",
    "l=[[w.upper(),len(w)]    for w in words]\n",
    "print(l)"
   ]
  },
  {
   "attachments": {},
   "cell_type": "markdown",
   "metadata": {},
   "source": [
    "# Q.. Write a program to display unique vowels present in the given word?"
   ]
  },
  {
   "cell_type": "code",
   "execution_count": 16,
   "metadata": {},
   "outputs": [
    {
     "name": "stdout",
     "output_type": "stream",
     "text": [
      "['u', 'a']\n",
      "The number of different vowels present in shubham is 2\n"
     ]
    }
   ],
   "source": [
    "vowels=['a','e','i','o','u']\n",
    "word=input(\"Entre the word to search for vowels:\")\n",
    "found=[]\n",
    "for letter in word:\n",
    "    if letter in vowels:\n",
    "        if letter not in found:\n",
    "            found.append(letter)\n",
    "print(found)\n",
    "print(\"The number of different vowels present in\",word,\"is\",len(found))"
   ]
  },
  {
   "cell_type": "code",
   "execution_count": null,
   "metadata": {},
   "outputs": [],
   "source": []
  }
 ],
 "metadata": {
  "kernelspec": {
   "display_name": "base",
   "language": "python",
   "name": "python3"
  },
  "language_info": {
   "codemirror_mode": {
    "name": "ipython",
    "version": 3
   },
   "file_extension": ".py",
   "mimetype": "text/x-python",
   "name": "python",
   "nbconvert_exporter": "python",
   "pygments_lexer": "ipython3",
   "version": "3.10.9"
  },
  "orig_nbformat": 4
 },
 "nbformat": 4,
 "nbformat_minor": 2
}
