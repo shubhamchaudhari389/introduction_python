{
 "cells": [
  {
   "attachments": {},
   "cell_type": "markdown",
   "metadata": {},
   "source": [
    "### Q1. Program to reverse order of words.\n",
    "           - input: Learning Python is very Easy \n",
    "           - output: Easy Very is Python Learning\n",
    "           "
   ]
  },
  {
   "cell_type": "code",
   "execution_count": 20,
   "metadata": {},
   "outputs": [
    {
     "name": "stdout",
     "output_type": "stream",
     "text": [
      "['shubham', 'Rajendra', 'Chaudhari']\n",
      "2\n",
      "['Chaudhari', 'Rajendra', 'shubham']\n",
      "Chaudhari Rajendra shubham\n"
     ]
    }
   ],
   "source": [
    "s =input(\"Enter Some String:\")\n",
    "l= s.split()\n",
    "print(l)\n",
    "l1=[]\n",
    "i=len(l)-1\n",
    "print(i)\n",
    "while i>=0:\n",
    "    l1.append(l[i])\n",
    "    i=i-1\n",
    "print(l1)\n",
    "output=' '.join(l1)\n",
    "print(output)\n",
    "\n"
   ]
  },
  {
   "attachments": {},
   "cell_type": "markdown",
   "metadata": {},
   "source": [
    "### Q3. Program to reverse internal content of each word.\n",
    "- input: Durga Software Solutions\n",
    "- output:agruD erawtfoS snoituloS"
   ]
  },
  {
   "cell_type": "code",
   "execution_count": 2,
   "metadata": {},
   "outputs": [
    {
     "name": "stdout",
     "output_type": "stream",
     "text": [
      "BUHS IRAHDUAHC\n"
     ]
    }
   ],
   "source": [
    "s=input(\"Enter the string:\")\n",
    "l=s.split()\n",
    "l1=[]\n",
    "i=0\n",
    "while i<len(l):\n",
    "    l1.append(l[i][::-1])\n",
    "    i=i+1\n",
    "output=\" \".join(l1)\n",
    "print(output)"
   ]
  },
  {
   "attachments": {},
   "cell_type": "markdown",
   "metadata": {},
   "source": [
    "### 4. Write a program to print characters at odd position and even position for the given string?"
   ]
  },
  {
   "cell_type": "code",
   "execution_count": 3,
   "metadata": {},
   "outputs": [
    {
     "name": "stdout",
     "output_type": "stream",
     "text": [
      "Chauracters at even position: suh rj \n",
      "character at odd Position: hba ae\n"
     ]
    }
   ],
   "source": [
    "#1st way:\n",
    "s=input(\"Enter Some String:\")\n",
    "print(\"Chauracters at even position:\",s[0::2])\n",
    "print(\"character at odd Position:\",s[1::2])"
   ]
  },
  {
   "cell_type": "code",
   "execution_count": 7,
   "metadata": {},
   "outputs": [
    {
     "name": "stdout",
     "output_type": "stream",
     "text": [
      "shubham\n",
      "Characters at Even Position:\n",
      "suhm\n",
      "chaeracters at Odd Position:\n",
      "h,b,a,"
     ]
    }
   ],
   "source": [
    "# 2nd way \n",
    "s= input(\"Enter the String\")\n",
    "print(s)\n",
    "i=0\n",
    "print(\"Characters at Even Position:\")\n",
    "while i<len(s):\n",
    "    print(s[i],end=',')\n",
    "    i=i+2\n",
    "print()\n",
    "print(\"chaeracters at Odd Position:\")\n",
    "i=1\n",
    "while i<len(s):\n",
    "    print(s[i],end=',')\n",
    "    i =i+2"
   ]
  },
  {
   "attachments": {},
   "cell_type": "markdown",
   "metadata": {},
   "source": [
    "### Q5. Program to merge characters of 2 strings into a single string by taking characters alternatively.\n",
    "- s1=\"ravi\"\n",
    "- s2=\"teja\"\n",
    "- output: rtaevjia"
   ]
  },
  {
   "cell_type": "code",
   "execution_count": 6,
   "metadata": {},
   "outputs": [
    {
     "name": "stdout",
     "output_type": "stream",
     "text": [
      "schhuabuh\n"
     ]
    }
   ],
   "source": [
    "s1=input(\"Enter The string:\")\n",
    "s2=input(\"Enter SEcond String:\")\n",
    "output=''\n",
    "i,j=0,0\n",
    "while i<len(s1) or j<len(s2):\n",
    "    if i<len(s1):\n",
    "        output = output + s1[i]\n",
    "        i+=1\n",
    "    if j<len(s2):\n",
    "        output= output+s2[j]\n",
    "        j+=1\n",
    "print(output)"
   ]
  },
  {
   "attachments": {},
   "cell_type": "markdown",
   "metadata": {},
   "source": [
    "### Q6.Write a program to sort the characters of the string and first alphabet symbols followed by numeric values\n",
    "- input: B4A1D3\n",
    "- Output: ABD134"
   ]
  },
  {
   "cell_type": "code",
   "execution_count": 13,
   "metadata": {},
   "outputs": [
    {
     "name": "stdout",
     "output_type": "stream",
     "text": [
      "['1', '3', '4', '4', '6', 'h', 's']\n"
     ]
    },
    {
     "data": {
      "text/plain": [
       "'for x in sorted(s1):\\n    output=output+x\\nfor x in sorted(s2):\\n    output=output+x\\nprint(output)'"
      ]
     },
     "execution_count": 13,
     "metadata": {},
     "output_type": "execute_result"
    }
   ],
   "source": [
    "s=input(\"Enter Some String:\")\n",
    "s1=s2=output=\"\"\n",
    "for x in s:\n",
    "    if x.isalpha():\n",
    "        s1=s1+x\n",
    "    else:\n",
    "        s2=s2+x\n",
    "#output = s1 +s2\n",
    "#print(sorted(output))\n",
    "for x in sorted(s1):\n",
    "    output=output+x\n",
    "for x in sorted(s2):\n",
    "    output=output+x\n",
    "print(output)\n",
    "\n"
   ]
  },
  {
   "attachments": {},
   "cell_type": "markdown",
   "metadata": {},
   "source": [
    "### Q7. Write a program for the following requirement \n",
    "-  a4b3c2\n",
    "-  aaaabbbcc"
   ]
  },
  {
   "cell_type": "code",
   "execution_count": 13,
   "metadata": {},
   "outputs": [
    {
     "name": "stdout",
     "output_type": "stream",
     "text": [
      "aaaabbbcc\n"
     ]
    }
   ],
   "source": [
    "s=input(\"Enter Some String:\")\n",
    "output =\"\"\n",
    "for x in s:\n",
    "    if x.isalpha():\n",
    "        output=output+x\n",
    "        previous=x\n",
    "    else:\n",
    "         output=output+previous*(int(x)-1)\n",
    "print(output)\n"
   ]
  },
  {
   "attachments": {},
   "cell_type": "markdown",
   "metadata": {},
   "source": [
    "## Note: chr(unicode)===>The corresponding character\n",
    " ## ord(character)===>The corresponding unicode value"
   ]
  },
  {
   "attachments": {},
   "cell_type": "markdown",
   "metadata": {},
   "source": [
    "### Q8. Write a program to perform the following activity\n",
    "- input: a4k3b2\n",
    "- output:aeknbd"
   ]
  },
  {
   "cell_type": "code",
   "execution_count": 17,
   "metadata": {},
   "outputs": [
    {
     "name": "stdout",
     "output_type": "stream",
     "text": [
      "aeknbd\n"
     ]
    }
   ],
   "source": [
    "s=input(\"Enter Some String:\")\n",
    "output=\"\"\n",
    "for x in s:\n",
    "    if x.isalpha():\n",
    "        output=output+x\n",
    "        previous=x\n",
    "    else:\n",
    "        output=output+chr(ord(previous)+int(x))\n",
    "print(output)"
   ]
  },
  {
   "attachments": {},
   "cell_type": "markdown",
   "metadata": {},
   "source": [
    "### Q9. Write a program to remove duplicate characters from the given input string?\n",
    "- input: ABCDABBCDABBBCCCDDEEEF\n",
    "- output: ABCDEF"
   ]
  },
  {
   "cell_type": "code",
   "execution_count": 22,
   "metadata": {},
   "outputs": [
    {
     "name": "stdout",
     "output_type": "stream",
     "text": [
      "f\n"
     ]
    }
   ],
   "source": [
    "s=input(\"Enter Some String:\")\n",
    "l=[]\n",
    "for x in s:\n",
    "    if x not in l:\n",
    "        l.append(x)\n",
    "output =\"\".join(l)\n",
    "print(output)"
   ]
  },
  {
   "attachments": {},
   "cell_type": "markdown",
   "metadata": {},
   "source": [
    "### Q10. Write a program to find the number of occurrences of each character present in the given String?\n",
    "- input: ABCABCABBCDE\n",
    "- output: A-3,B-4,C-3,D-1,E-1"
   ]
  },
  {
   "cell_type": "code",
   "execution_count": 26,
   "metadata": {},
   "outputs": [
    {
     "name": "stdout",
     "output_type": "stream",
     "text": [
      "A=3Times\n",
      "B=4Times\n",
      "C=3Times\n",
      "D=1Times\n",
      "E=1Times\n"
     ]
    }
   ],
   "source": [
    "s =input(\"Enter the some string:\")\n",
    "d={}\n",
    "for x in s:\n",
    "    if x in d.keys():\n",
    "        d[x] =d[x]+1   \n",
    "    else:\n",
    "        d[x]=1  \n",
    "for k,v in d.items():\n",
    "    print(\"{}={}Times\".format(k,v))"
   ]
  },
  {
   "cell_type": "code",
   "execution_count": null,
   "metadata": {},
   "outputs": [],
   "source": []
  }
 ],
 "metadata": {
  "kernelspec": {
   "display_name": "base",
   "language": "python",
   "name": "python3"
  },
  "language_info": {
   "codemirror_mode": {
    "name": "ipython",
    "version": 3
   },
   "file_extension": ".py",
   "mimetype": "text/x-python",
   "name": "python",
   "nbconvert_exporter": "python",
   "pygments_lexer": "ipython3",
   "version": "3.10.9"
  },
  "orig_nbformat": 4
 },
 "nbformat": 4,
 "nbformat_minor": 2
}
