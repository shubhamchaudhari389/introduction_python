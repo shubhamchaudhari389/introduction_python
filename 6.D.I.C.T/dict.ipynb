{
 "cells": [
  {
   "attachments": {},
   "cell_type": "markdown",
   "metadata": {},
   "source": [
    "<h1 style=\"color:Tomato;\"><center><b> Dictionary Data Structure </b></center></h1>\n",
    " we can use List, Tuple and set to represent a group of individual objects as a single entity.\n",
    " if we Want to represent a group of object as a key-value pairs then we should go for Dictionary\n",
    "\n",
    "Eg:\n",
    "      - rollno----name\n",
    "      - phone number --address\n",
    "      - ipaddress--domain name\n",
    "\n",
    "- duplicate key are not allowed but values can be duplicate.\n",
    "- Hetrogenous objects are allowed for both key and value.\n",
    "- insertion order is not preserved\n",
    "- Dictionaries are mutable.\n",
    "- Dictionaries are dyanamic\n",
    "- indexing and slicing concepts are not applicable.\n",
    "\n",
    "<b>Note:</b> In C++ and Java Dictionaries are Known as \"Map\" where as in Prel and Ruby it is known as \"Hash\".\n",
    "\n",
    "<B><h3>How to Create Dictionary</h3></b>\n",
    " d ={}  or d =dict()\n",
    " we are creating empty dictionary. we can add entiers A Follows:\n",
    "1. d[100] =\"prathmesh\"\n",
    "2. d[200] =\"ravi\"\n",
    "3. d[300] =\"shiva\"\n",
    "4. print(d)       # {100:\"prathmesh\",200:\"ravi\",300}\n",
    "if we know data in advanced then we can create dicitionary as follows\n",
    "\n",
    "- d={100:\"durga\",200:\"ravi\",300=\"shiva\"}\n",
    "- d={key:value, key:value}\n",
    "\n",
    "<B><h3>How can access data from the dictionary?</h3></b>\n",
    "we can access data by using key.\n",
    "\n",
    "1. d={100:\"shubham\", 200=\"sakshi\", 300:\"kulu\"}\n",
    "2. print(d[100])  #durga\n",
    "3. print(d[200])  #sakshi\n",
    "\n",
    "if the specified key is not available then we will get Keyvalue\n",
    "\n",
    "4. print(d[400]) #KeyError:400\n",
    "\n",
    "- we can prevent this by checking whether key is already available or not by using has_key() function or by using in opertor.\n",
    "- d.has_key(400)  ===> return 1 if key is avilable otherwise retuen 0\n",
    "- but has_key() function is available only in python2 but nit in python 3. Hence compulsory we have to use in operator\n",
    "\n",
    "if 400 in d:\n",
    "       print(d[400])\n",
    "\n",
    "## Q. Write a program to enter name and percentage marks in a Dictionary and display informtion on the screen"
   ]
  },
  {
   "cell_type": "code",
   "execution_count": null,
   "metadata": {},
   "outputs": [],
   "source": []
  },
  {
   "attachments": {},
   "cell_type": "markdown",
   "metadata": {},
   "source": []
  }
 ],
 "metadata": {
  "kernelspec": {
   "display_name": "base",
   "language": "python",
   "name": "python3"
  },
  "language_info": {
   "codemirror_mode": {
    "name": "ipython",
    "version": 3
   },
   "file_extension": ".py",
   "mimetype": "text/x-python",
   "name": "python",
   "nbconvert_exporter": "python",
   "pygments_lexer": "ipython3",
   "version": "3.10.9"
  },
  "orig_nbformat": 4
 },
 "nbformat": 4,
 "nbformat_minor": 2
}
