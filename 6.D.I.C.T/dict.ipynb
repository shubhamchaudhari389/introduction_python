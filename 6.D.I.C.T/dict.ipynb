{
 "cells": [
  {
   "attachments": {},
   "cell_type": "markdown",
   "metadata": {},
   "source": [
    "<h1 style=\"color:Tomato;\"><center><b> Dictionary Data Structure </b></center></h1>\n",
    " we can use List, Tuple and set to represent a group of individual objects as a single entity.\n",
    " if we Want to represent a group of object as a key-value pairs then we should go for Dictionary\n",
    "\n",
    "Eg:\n",
    "      - rollno----name\n",
    "      - phone number --address\n",
    "      - ipaddress--domain name\n",
    "\n",
    "- duplicate key are not allowed but values can be duplicate.\n",
    "- Hetrogenous objects are allowed for both key and value.\n",
    "- insertion order is not preserved\n",
    "- Dictionaries are mutable.\n",
    "- Dictionaries are dyanamic\n",
    "- indexing and slicing concepts are not applicable.\n",
    "\n",
    "<b>Note:</b> In C++ and Java Dictionaries are Known as \"Map\" where as in Prel and Ruby it is known as \"Hash\".\n",
    "\n",
    "<B><h3>How to Create Dictionary</h3></b>\n",
    " d ={}  or d =dict()\n",
    " we are creating empty dictionary. we can add entiers A FOLLOW"
   ]
  },
  {
   "cell_type": "code",
   "execution_count": 2,
   "metadata": {},
   "outputs": [
    {
     "ename": "NameError",
     "evalue": "name 'd' is not defined",
     "output_type": "error",
     "traceback": [
      "\u001b[1;31m---------------------------------------------------------------------------\u001b[0m",
      "\u001b[1;31mNameError\u001b[0m                                 Traceback (most recent call last)",
      "Cell \u001b[1;32mIn[2], line 1\u001b[0m\n\u001b[1;32m----> 1\u001b[0m d[\u001b[39m100\u001b[39m] \u001b[39m=\u001b[39m\u001b[39m\"\u001b[39m\u001b[39mdurga\u001b[39m\u001b[39m\"\u001b[39m\n\u001b[0;32m      2\u001b[0m d[\u001b[39m200\u001b[39m] \u001b[39m=\u001b[39m\u001b[39m\"\u001b[39m\u001b[39mravi\u001b[39m\u001b[39m\"\u001b[39m\n\u001b[0;32m      3\u001b[0m d[\u001b[39m300\u001b[39m] \u001b[39m=\u001b[39m\u001b[39m\"\u001b[39m\u001b[39mshiva\u001b[39m\u001b[39m\"\u001b[39m\n",
      "\u001b[1;31mNameError\u001b[0m: name 'd' is not defined"
     ]
    }
   ],
   "source": [
    "d[100] =\"durga\"\n",
    "d[200] =\"ravi\"\n",
    "d[300] =\"shiva\"\n",
    "print(d)"
   ]
  },
  {
   "attachments": {},
   "cell_type": "markdown",
   "metadata": {},
   "source": []
  }
 ],
 "metadata": {
  "kernelspec": {
   "display_name": "base",
   "language": "python",
   "name": "python3"
  },
  "language_info": {
   "codemirror_mode": {
    "name": "ipython",
    "version": 3
   },
   "file_extension": ".py",
   "mimetype": "text/x-python",
   "name": "python",
   "nbconvert_exporter": "python",
   "pygments_lexer": "ipython3",
   "version": "3.10.9"
  },
  "orig_nbformat": 4
 },
 "nbformat": 4,
 "nbformat_minor": 2
}
