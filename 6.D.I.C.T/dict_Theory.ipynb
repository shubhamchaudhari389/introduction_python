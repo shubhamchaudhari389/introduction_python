{
 "cells": [
  {
   "attachments": {},
   "cell_type": "markdown",
   "metadata": {},
   "source": [
    "<h1 style=\"color:Tomato;\"><center><b> Dictionary Data Structure </b></center></h1>\n",
    " we can use List, Tuple and set to represent a group of individual objects as a single entity.\n",
    " if we Want to represent a group of object as a key-value pairs then we should go for Dictionary\n",
    "\n",
    "Eg:\n",
    "      - rollno----name\n",
    "      - phone number --address\n",
    "      - ipaddress--domain name\n",
    "\n",
    "- duplicate key are not allowed but values can be duplicate.\n",
    "- Hetrogenous objects are allowed for both key and value.\n",
    "- insertion order is not preserved\n",
    "- Dictionaries are mutable.\n",
    "- Dictionaries are dyanamic\n",
    "- indexing and slicing concepts are not applicable.\n",
    "\n",
    "<b>Note:</b> In C++ and Java Dictionaries are Known as \"Map\" where as in Prel and Ruby it is known as \"Hash\".\n",
    "\n",
    "<b><h3>How to Create Dictionary</h3></b>\n",
    " d ={}  or d =dict()\n",
    " we are creating empty dictionary. we can add entiers A Follows:\n",
    "1. d[100] =\"prathmesh\"\n",
    "2. d[200] =\"ravi\"\n",
    "3. d[300] =\"shiva\"\n",
    "4. print(d)       # {100:\"prathmesh\",200:\"ravi\",300}\n",
    "if we know data in advanced then we can create dicitionary as follows\n",
    "\n",
    "- d={100:\"durga\",200:\"ravi\",300=\"shiva\"}\n",
    "- d={key:value, key:value}\n",
    "\n",
    "<B><h3>How can access data from the dictionary?</h3></b>\n",
    "we can access data by using key.\n",
    "\n",
    "1. d={100:\"shubham\", 200=\"sakshi\", 300:\"kulu\"}\n",
    "2. print(d[100])  #durga\n",
    "3. print(d[200])  #sakshi\n",
    "\n",
    "if the specified key is not available then we will get Keyvalue\n",
    "\n",
    "4. print(d[400]) #KeyError:400\n",
    "\n",
    "- we can prevent this by checking whether key is already available or not by using has_key() function or by using in opertor.\n",
    "- d.has_key(400)  ===> return 1 if key is avilable otherwise retuen 0\n",
    "- but has_key() function is available only in python2 but nit in python 3. Hence compulsory we have to use in operator\n",
    "\n",
    "if 400 in d:\n",
    "       print(d[400])\n",
    "\n",
    "## Q. Write a program to enter name and percentage marks in a Dictionary and display informtion on the screen"
   ]
  },
  {
   "cell_type": "code",
   "execution_count": 27,
   "metadata": {},
   "outputs": [
    {
     "name": "stdout",
     "output_type": "stream",
     "text": [
      "Name of Student \t % of marks\n",
      "\t shubham \t\t 60\n"
     ]
    }
   ],
   "source": [
    "rec ={}\n",
    "n= int(input(\"Enter Number Of Student:\"))\n",
    "i=1\n",
    "while i<=n:\n",
    "    name=input(\"Enter Student Name:\")\n",
    "    marks=input(\"Enter % of Marks of student:\")\n",
    "    rec[name]=marks\n",
    "    i=i+1\n",
    "print(\"Name of Student\",\"\\t\",\"% of marks\")\n",
    "for x in rec:\n",
    "    print(\"\\t\",x,\"\\t\\t\",rec[x])"
   ]
  },
  {
   "attachments": {},
   "cell_type": "markdown",
   "metadata": {},
   "source": [
    "<b><h3>How to update dictionaries?</h3></b>\n",
    "\n",
    "- d[key]= value\n",
    "\n",
    "- if the key is not available then a new entry will be added to the dictionary with the specified key-value pair\n",
    "\n",
    "- if the key is already available then old value will be replaced with new value."
   ]
  },
  {
   "cell_type": "code",
   "execution_count": 28,
   "metadata": {},
   "outputs": [
    {
     "name": "stdout",
     "output_type": "stream",
     "text": [
      "{100: 'shubham', 200: 'raju', 300: 'ravi'}\n",
      "{100: 'shubham', 200: 'raju', 300: 'ravi', 400: 'pavan'}\n",
      "{100: 'sunny', 200: 'raju', 300: 'ravi', 400: 'pavan'}\n"
     ]
    }
   ],
   "source": [
    "d ={100:\"shubham\",200:\"raju\",300:\"ravi\"}\n",
    "print(d)\n",
    "d[400]=\"pavan\"\n",
    "print(d)\n",
    "d[100]=\"sunny\"\n",
    "print(d)\n"
   ]
  },
  {
   "attachments": {},
   "cell_type": "markdown",
   "metadata": {},
   "source": [
    "<b><h3>How to delete element from dictionaries?</h3></b>\n",
    "\n",
    "- del d[key]\n",
    "1. it deletes entry associated with the specified key.\n",
    "2. if the key is not available then we will get KeyError"
   ]
  },
  {
   "cell_type": "code",
   "execution_count": 29,
   "metadata": {},
   "outputs": [
    {
     "name": "stdout",
     "output_type": "stream",
     "text": [
      "{100: 'shubham', 200: 'raju', 300: 'shiva'}\n",
      "{200: 'raju', 300: 'shiva'}\n"
     ]
    },
    {
     "ename": "KeyError",
     "evalue": "400",
     "output_type": "error",
     "traceback": [
      "\u001b[1;31m---------------------------------------------------------------------------\u001b[0m",
      "\u001b[1;31mKeyError\u001b[0m                                  Traceback (most recent call last)",
      "Cell \u001b[1;32mIn[29], line 5\u001b[0m\n\u001b[0;32m      3\u001b[0m \u001b[39mdel\u001b[39;00m d[\u001b[39m100\u001b[39m]\n\u001b[0;32m      4\u001b[0m \u001b[39mprint\u001b[39m(d)\n\u001b[1;32m----> 5\u001b[0m \u001b[39mdel\u001b[39;00m d[\u001b[39m400\u001b[39m]\n",
      "\u001b[1;31mKeyError\u001b[0m: 400"
     ]
    }
   ],
   "source": [
    "d ={100:\"shubham\",200:\"raju\",300:\"shiva\"}\n",
    "print(d)\n",
    "del d[100]\n",
    "print(d)\n",
    "del d[400]\n",
    "\n",
    "## key error\n"
   ]
  },
  {
   "attachments": {},
   "cell_type": "markdown",
   "metadata": {},
   "source": [
    "<b><h3>del d</h3></b>\n",
    "\n",
    "- To delete total dictionary. Now we cannot access d."
   ]
  },
  {
   "cell_type": "code",
   "execution_count": null,
   "metadata": {},
   "outputs": [
    {
     "name": "stdout",
     "output_type": "stream",
     "text": [
      "{100: 'shubham', 200: 'rahul', 300: 'ravi'}\n"
     ]
    }
   ],
   "source": [
    "d={100:\"shubham\",200:\"rahul\",300:\"ravi\"}\n",
    "print(d)\n"
   ]
  },
  {
   "cell_type": "code",
   "execution_count": null,
   "metadata": {},
   "outputs": [
    {
     "ename": "NameError",
     "evalue": "name 'd' is not defined",
     "output_type": "error",
     "traceback": [
      "\u001b[1;31m---------------------------------------------------------------------------\u001b[0m",
      "\u001b[1;31mNameError\u001b[0m                                 Traceback (most recent call last)",
      "Cell \u001b[1;32mIn[15], line 2\u001b[0m\n\u001b[0;32m      1\u001b[0m \u001b[39mdel\u001b[39;00m d\n\u001b[1;32m----> 2\u001b[0m \u001b[39mprint\u001b[39m(d)\n",
      "\u001b[1;31mNameError\u001b[0m: name 'd' is not defined"
     ]
    }
   ],
   "source": [
    "del d\n",
    "print(d)"
   ]
  },
  {
   "attachments": {},
   "cell_type": "markdown",
   "metadata": {},
   "source": [
    "<b><h3>Important Function Of Dictionary</h3></b>\n",
    "\n",
    "1. <b> Dict():</b>\n",
    "To Create a dictionary.\n",
    "\n",
    "- d=dict() ===> It creates empty dictionary\n",
    "- d=dict({100:\"shubham\",200:\"Ravi\"}) ===> it create dictionary with specified elements\n",
    "- d=dict([(100,\"shubham\"),(200,\"Ravi\"),(300,\"shiva\")]) ===> It creates dictionary with the Given list of tuple elements.\n",
    "\n",
    "2. <b> len() </b>\n",
    "- Returns the number of items in the dictionary.\n",
    "\n",
    "3. <b>clear</b>\n",
    "- To remove all the elements from the dictionary.\n",
    "\n",
    "4. <b> get(): </b>\n",
    "- To get the value all associated with the key\n",
    "- d.get(key)\n",
    "<tab> if the key is available then return the corresponding value otherwise returns default value.\n",
    "       "
   ]
  },
  {
   "cell_type": "code",
   "execution_count": null,
   "metadata": {},
   "outputs": [
    {
     "name": "stdout",
     "output_type": "stream",
     "text": [
      "Shubham\n"
     ]
    }
   ],
   "source": [
    "d={100:\"Shubham\",200:\"Raju\",300:\"Ram\"}\n",
    "print(d[100])"
   ]
  },
  {
   "cell_type": "code",
   "execution_count": null,
   "metadata": {},
   "outputs": [
    {
     "ename": "KeyError",
     "evalue": "400",
     "output_type": "error",
     "traceback": [
      "\u001b[1;31m---------------------------------------------------------------------------\u001b[0m",
      "\u001b[1;31mKeyError\u001b[0m                                  Traceback (most recent call last)",
      "Cell \u001b[1;32mIn[17], line 1\u001b[0m\n\u001b[1;32m----> 1\u001b[0m \u001b[39mprint\u001b[39m(d[\u001b[39m400\u001b[39;49m])\n",
      "\u001b[1;31mKeyError\u001b[0m: 400"
     ]
    }
   ],
   "source": [
    "print(d[400])"
   ]
  },
  {
   "cell_type": "code",
   "execution_count": null,
   "metadata": {},
   "outputs": [
    {
     "name": "stdout",
     "output_type": "stream",
     "text": [
      "Shubham\n"
     ]
    }
   ],
   "source": [
    "print(d.get(100))"
   ]
  },
  {
   "cell_type": "code",
   "execution_count": null,
   "metadata": {},
   "outputs": [
    {
     "name": "stdout",
     "output_type": "stream",
     "text": [
      "None\n"
     ]
    }
   ],
   "source": [
    "print(d.get(400))"
   ]
  },
  {
   "cell_type": "code",
   "execution_count": null,
   "metadata": {},
   "outputs": [
    {
     "name": "stdout",
     "output_type": "stream",
     "text": [
      "Shubham\n"
     ]
    }
   ],
   "source": [
    "print(d.get(100,\"Guest\"))"
   ]
  },
  {
   "cell_type": "code",
   "execution_count": null,
   "metadata": {},
   "outputs": [
    {
     "name": "stdout",
     "output_type": "stream",
     "text": [
      "Guest\n"
     ]
    }
   ],
   "source": [
    "print(d.get(400,\"Guest\"))"
   ]
  },
  {
   "attachments": {},
   "cell_type": "markdown",
   "metadata": {},
   "source": [
    "3.  <b> pop():</b>\n",
    "\n",
    "d.pop(key)\n",
    "- it removes the entry associated with the specified key and return the corrosponding value\n",
    "- if the specified key is not available then we will get KeyError."
   ]
  },
  {
   "cell_type": "code",
   "execution_count": null,
   "metadata": {},
   "outputs": [
    {
     "name": "stdout",
     "output_type": "stream",
     "text": [
      "shubham\n",
      "{200: 'Ravi', 300: 'Shiva'}\n"
     ]
    }
   ],
   "source": [
    "d={100:\"shubham\",200:\"Ravi\",300:\"Shiva\"}\n",
    "print(d.pop(100))\n",
    "print(d)\n"
   ]
  },
  {
   "cell_type": "code",
   "execution_count": null,
   "metadata": {},
   "outputs": [
    {
     "ename": "KeyError",
     "evalue": "400",
     "output_type": "error",
     "traceback": [
      "\u001b[1;31m---------------------------------------------------------------------------\u001b[0m",
      "\u001b[1;31mKeyError\u001b[0m                                  Traceback (most recent call last)",
      "Cell \u001b[1;32mIn[23], line 1\u001b[0m\n\u001b[1;32m----> 1\u001b[0m \u001b[39mprint\u001b[39m(d\u001b[39m.\u001b[39;49mpop(\u001b[39m400\u001b[39;49m))\n",
      "\u001b[1;31mKeyError\u001b[0m: 400"
     ]
    }
   ],
   "source": [
    "print(d.pop(400))"
   ]
  },
  {
   "attachments": {},
   "cell_type": "markdown",
   "metadata": {},
   "source": [
    "4. 3.  <b> popitem():</b>\n",
    "- it removes an arbitrary item(key-value) from the dictionary and return it."
   ]
  },
  {
   "cell_type": "code",
   "execution_count": null,
   "metadata": {},
   "outputs": [
    {
     "name": "stdout",
     "output_type": "stream",
     "text": [
      "{100: 'Shubham', 200: 'Ravi', 300: 'Shiva'}\n",
      "(300, 'Shiva')\n",
      "{100: 'Shubham', 200: 'Ravi'}\n"
     ]
    }
   ],
   "source": [
    "d={100:\"Shubham\",200:\"Ravi\",300:\"Shiva\"}\n",
    "print(d)\n",
    "print(d.popitem())\n",
    "print(d)"
   ]
  },
  {
   "attachments": {},
   "cell_type": "markdown",
   "metadata": {},
   "source": [
    "\n",
    "- if the dicitonary is empty then we will get KeyError.\n",
    "- d={}\n",
    "- print(d.popitem()) ===> KeyError: 'popitem(): dictionary is empty'\n",
    "\n",
    "5. <b> keys():</b>\n",
    "- it return all keys associated eith dictionary."
   ]
  },
  {
   "cell_type": "code",
   "execution_count": null,
   "metadata": {},
   "outputs": [
    {
     "name": "stdout",
     "output_type": "stream",
     "text": [
      "dict_keys([100, 200, 300])\n",
      "100\n",
      "200\n",
      "300\n"
     ]
    }
   ],
   "source": [
    "d ={100:\"shubham\", 200:\"Ravi\", 300:\"Shiva\"}\n",
    "print(d.keys())\n",
    "for k in d.keys():\n",
    "    print(k)"
   ]
  },
  {
   "attachments": {},
   "cell_type": "markdown",
   "metadata": {},
   "source": [
    "6. <b> values: </b>\n",
    "- it return all value associated with the dictionary."
   ]
  },
  {
   "cell_type": "code",
   "execution_count": 30,
   "metadata": {},
   "outputs": [
    {
     "name": "stdout",
     "output_type": "stream",
     "text": [
      "dict_values(['shubham', 'Ravi', 'Shiva'])\n",
      "shubham\n",
      "Ravi\n",
      "Shiva\n"
     ]
    }
   ],
   "source": [
    "d ={100:\"shubham\",200:\"Ravi\",300:\"Shiva\"}\n",
    "print(d.values())\n",
    "for v in d.values():\n",
    "    print(v)"
   ]
  },
  {
   "attachments": {},
   "cell_type": "markdown",
   "metadata": {},
   "source": [
    "7. <b> items(): </b>\n",
    "- it returns list of tuples representing key-value pairs.\n",
    "- [(k,v)(k,v)(k,v)]"
   ]
  },
  {
   "cell_type": "code",
   "execution_count": 31,
   "metadata": {},
   "outputs": [
    {
     "name": "stdout",
     "output_type": "stream",
     "text": [
      "100 -- Shubham\n",
      "200 -- Ravi\n",
      "300 -- Shiva\n"
     ]
    }
   ],
   "source": [
    "d={100:\"Shubham\",200:\"Ravi\",300:\"Shiva\"}\n",
    "for k,v in d.items():\n",
    "    print(k,\"--\",v)"
   ]
  },
  {
   "attachments": {},
   "cell_type": "markdown",
   "metadata": {},
   "source": [
    "8. <b> copy(): </b>\n",
    "- To create exactly duplicate dictionary(cloned copy)\n",
    "- d1 =d.copy()\n",
    "\n",
    "9. <b> setdefault() </b>:\n",
    "- d.setdefault(k,v)\n",
    "- if the key is already available then this function returns the corresponding value.\n",
    "- if the key is not available then the specified key-value will be added as new item to the dictionary"
   ]
  },
  {
   "cell_type": "code",
   "execution_count": 33,
   "metadata": {},
   "outputs": [
    {
     "name": "stdout",
     "output_type": "stream",
     "text": [
      "pavan\n",
      "{100: 'Shubham', 200: 'Ravi', 300: 'Raju', 400: 'pavan'}\n"
     ]
    }
   ],
   "source": [
    "d={100:\"Shubham\",200:\"Ravi\",300:\"Raju\"}\n",
    "print(d.setdefault(400,\"pavan\"))\n",
    "print(d)\n"
   ]
  },
  {
   "cell_type": "code",
   "execution_count": 34,
   "metadata": {},
   "outputs": [
    {
     "name": "stdout",
     "output_type": "stream",
     "text": [
      "Shubham\n",
      "{100: 'Shubham', 200: 'Ravi', 300: 'Raju', 400: 'pavan'}\n"
     ]
    }
   ],
   "source": [
    "print(d.setdefault(100,\"sachin\"))\n",
    "print(d)"
   ]
  },
  {
   "attachments": {},
   "cell_type": "markdown",
   "metadata": {},
   "source": [
    "10. <b> update(): </b>\n",
    "- d.update(x)\n",
    "- all items present in the dictinary x will be added to dictonart d\n",
    "\n",
    "## Q1. Write a program to take dictionary From the Keyboard and print the sum of value?\n"
   ]
  },
  {
   "cell_type": "code",
   "execution_count": 42,
   "metadata": {},
   "outputs": [
    {
     "name": "stdout",
     "output_type": "stream",
     "text": [
      "sum= 600\n"
     ]
    }
   ],
   "source": [
    "d =eval(input(\"Enter Dictionary:\"))\n",
    "s= sum(d.values())\n",
    "print(\"sum=\",s)\n",
    "\n",
    "# input {'A':100,'B':200,'C':300}"
   ]
  },
  {
   "attachments": {},
   "cell_type": "markdown",
   "metadata": {},
   "source": [
    "## Q2. Write a program to find number of occurrences of each letter present in the given string?"
   ]
  },
  {
   "cell_type": "code",
   "execution_count": 43,
   "metadata": {},
   "outputs": [
    {
     "name": "stdout",
     "output_type": "stream",
     "text": [
      "s Occurred 3 times\n",
      "h Occurred 2 times\n",
      "u Occurred 1 times\n",
      "b Occurred 1 times\n",
      "a Occurred 1 times\n",
      "m Occurred 2 times\n"
     ]
    }
   ],
   "source": [
    "word =input(\"Enter any word:\")\n",
    "d={}\n",
    "for x in word:\n",
    "    d[x]=d.get(x,0)+1\n",
    "for k,v in d.items():\n",
    "    print(k,\"Occurred\",v,\"times\")"
   ]
  },
  {
   "attachments": {},
   "cell_type": "markdown",
   "metadata": {},
   "source": [
    "## Q3.Write a program to find number of occurrences of each vowel present in the given string? "
   ]
  },
  {
   "cell_type": "code",
   "execution_count": 45,
   "metadata": {},
   "outputs": [
    {
     "name": "stdout",
     "output_type": "stream",
     "text": [
      "a occurred 1 times\n",
      "u occurred 1 times\n"
     ]
    }
   ],
   "source": [
    "word =input(\"Enter any Word:\")\n",
    "vowels ={'a','e','i','o','u'}\n",
    "d={}\n",
    "for x in word:\n",
    "    if x in vowels:\n",
    "        d[x]=d.get(x,0)+1\n",
    "for k,v in sorted(d.items()):\n",
    "    print(k,\"occurred\",v,\"times\")"
   ]
  },
  {
   "attachments": {},
   "cell_type": "markdown",
   "metadata": {},
   "source": [
    "## Q. Write a program to accept student name and marks from the keyboard and creates a dictionary. Also display student marks by taking student name as input?\n"
   ]
  },
  {
   "cell_type": "code",
   "execution_count": 51,
   "metadata": {},
   "outputs": [
    {
     "name": "stdout",
     "output_type": "stream",
     "text": [
      "Student Not Found\n",
      "Student Not Found\n",
      "Student Not Found\n",
      "Student Not Found\n",
      "Student Not Found\n",
      "Student Not Found\n",
      "Student Not Found\n",
      "Student Not Found\n",
      "Student Not Found\n",
      "Student Not Found\n",
      "Thanks For using our application\n"
     ]
    }
   ],
   "source": [
    "n=int(input(\"Enter the number Of Student:\"))\n",
    "d={}\n",
    "for i in range(n):\n",
    "    name=input(\"Enter Student Name:\")\n",
    "    marks=input(\"Enter Student Marks:\")\n",
    "    d[name]=marks\n",
    "while True:\n",
    "    name=input(\"Entre Student Name to get Marks:\")\n",
    "    marks=d.get(name,-1)\n",
    "    if marks==-1:\n",
    "        print(\"Student Not Found\")\n",
    "    else:\n",
    "        print(\"The Marks of\",name,\"are\",marks)\n",
    "    option = input(\"Do you want to Find another student mark[yes|No]\")\n",
    "    if option==\"No\":\n",
    "        break\n",
    "\n",
    "print(\"Thanks For using our application\")\n",
    "\n",
    "\n"
   ]
  },
  {
   "attachments": {},
   "cell_type": "markdown",
   "metadata": {},
   "source": [
    "## Dictionary Comprehension:\n",
    "comprehension concept applicable for dictionaries also"
   ]
  },
  {
   "cell_type": "code",
   "execution_count": 54,
   "metadata": {},
   "outputs": [
    {
     "name": "stdout",
     "output_type": "stream",
     "text": [
      "{1: 1, 2: 4, 3: 9, 4: 16, 5: 25}\n"
     ]
    }
   ],
   "source": [
    "squares={x:x*x for x in range(1,6)}\n",
    "print(squares)"
   ]
  },
  {
   "cell_type": "code",
   "execution_count": 53,
   "metadata": {},
   "outputs": [
    {
     "name": "stdout",
     "output_type": "stream",
     "text": [
      "{1: 2, 2: 4, 3: 6, 4: 8, 5: 10}\n"
     ]
    }
   ],
   "source": [
    "doubles={x:2*x for x in range(1,6)}\n",
    "print(doubles)"
   ]
  },
  {
   "cell_type": "code",
   "execution_count": null,
   "metadata": {},
   "outputs": [],
   "source": []
  }
 ],
 "metadata": {
  "kernelspec": {
   "display_name": "base",
   "language": "python",
   "name": "python3"
  },
  "language_info": {
   "codemirror_mode": {
    "name": "ipython",
    "version": 3
   },
   "file_extension": ".py",
   "mimetype": "text/x-python",
   "name": "python",
   "nbconvert_exporter": "python",
   "pygments_lexer": "ipython3",
   "version": "3.10.9"
  },
  "orig_nbformat": 4
 },
 "nbformat": 4,
 "nbformat_minor": 2
}
